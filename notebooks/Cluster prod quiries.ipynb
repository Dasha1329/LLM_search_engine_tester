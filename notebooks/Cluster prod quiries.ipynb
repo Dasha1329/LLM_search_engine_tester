{
 "cells": [
  {
   "cell_type": "code",
   "execution_count": 1,
   "id": "472823f3-9d9a-4722-81f9-7880b213814f",
   "metadata": {},
   "outputs": [
    {
     "name": "stdout",
     "output_type": "stream",
     "text": [
      "Collecting pyarrow\n",
      "  Using cached pyarrow-18.1.0-cp311-cp311-manylinux_2_28_x86_64.whl.metadata (3.3 kB)\n",
      "Using cached pyarrow-18.1.0-cp311-cp311-manylinux_2_28_x86_64.whl (40.1 MB)\n",
      "Installing collected packages: pyarrow\n",
      "Successfully installed pyarrow-18.1.0\n"
     ]
    }
   ],
   "source": [
    "!pip install pyarrow"
   ]
  },
  {
   "cell_type": "code",
   "execution_count": 2,
   "id": "f5c32fec-5e36-422e-a789-c25a3644bd5d",
   "metadata": {},
   "outputs": [
    {
     "name": "stdout",
     "output_type": "stream",
     "text": [
      "Collecting fastparquet\n",
      "  Using cached fastparquet-2024.11.0-cp311-cp311-manylinux_2_17_x86_64.manylinux2014_x86_64.whl.metadata (4.2 kB)\n",
      "Requirement already satisfied: pandas>=1.5.0 in /opt/conda/lib/python3.11/site-packages (from fastparquet) (2.2.2)\n",
      "Requirement already satisfied: numpy in /opt/conda/lib/python3.11/site-packages (from fastparquet) (1.26.4)\n",
      "Collecting cramjam>=2.3 (from fastparquet)\n",
      "  Using cached cramjam-2.9.0-cp311-cp311-manylinux_2_17_x86_64.manylinux2014_x86_64.whl.metadata (4.9 kB)\n",
      "Requirement already satisfied: fsspec in /opt/conda/lib/python3.11/site-packages (from fastparquet) (2024.6.1)\n",
      "Requirement already satisfied: packaging in /opt/conda/lib/python3.11/site-packages (from fastparquet) (23.2)\n",
      "Requirement already satisfied: python-dateutil>=2.8.2 in /opt/conda/lib/python3.11/site-packages (from pandas>=1.5.0->fastparquet) (2.8.2)\n",
      "Requirement already satisfied: pytz>=2020.1 in /opt/conda/lib/python3.11/site-packages (from pandas>=1.5.0->fastparquet) (2023.3.post1)\n",
      "Requirement already satisfied: tzdata>=2022.7 in /opt/conda/lib/python3.11/site-packages (from pandas>=1.5.0->fastparquet) (2024.1)\n",
      "Requirement already satisfied: six>=1.5 in /opt/conda/lib/python3.11/site-packages (from python-dateutil>=2.8.2->pandas>=1.5.0->fastparquet) (1.16.0)\n",
      "Using cached fastparquet-2024.11.0-cp311-cp311-manylinux_2_17_x86_64.manylinux2014_x86_64.whl (1.8 MB)\n",
      "Using cached cramjam-2.9.0-cp311-cp311-manylinux_2_17_x86_64.manylinux2014_x86_64.whl (2.4 MB)\n",
      "Installing collected packages: cramjam, fastparquet\n",
      "Successfully installed cramjam-2.9.0 fastparquet-2024.11.0\n"
     ]
    }
   ],
   "source": [
    "!pip install fastparquet"
   ]
  },
  {
   "cell_type": "code",
   "execution_count": 3,
   "id": "56d328f0-135e-4b75-ac5d-895102b64ab0",
   "metadata": {},
   "outputs": [
    {
     "name": "stdout",
     "output_type": "stream",
     "text": [
      "Collecting transformers\n",
      "  Using cached transformers-4.47.0-py3-none-any.whl.metadata (43 kB)\n",
      "Requirement already satisfied: filelock in /opt/conda/lib/python3.11/site-packages (from transformers) (3.16.1)\n",
      "Collecting huggingface-hub<1.0,>=0.24.0 (from transformers)\n",
      "  Using cached huggingface_hub-0.26.5-py3-none-any.whl.metadata (13 kB)\n",
      "Requirement already satisfied: numpy>=1.17 in /opt/conda/lib/python3.11/site-packages (from transformers) (1.26.4)\n",
      "Requirement already satisfied: packaging>=20.0 in /opt/conda/lib/python3.11/site-packages (from transformers) (23.2)\n",
      "Requirement already satisfied: pyyaml>=5.1 in /opt/conda/lib/python3.11/site-packages (from transformers) (6.0.1)\n",
      "Collecting regex!=2019.12.17 (from transformers)\n",
      "  Using cached regex-2024.11.6-cp311-cp311-manylinux_2_17_x86_64.manylinux2014_x86_64.whl.metadata (40 kB)\n",
      "Requirement already satisfied: requests in /opt/conda/lib/python3.11/site-packages (from transformers) (2.31.0)\n",
      "Collecting tokenizers<0.22,>=0.21 (from transformers)\n",
      "  Using cached tokenizers-0.21.0-cp39-abi3-manylinux_2_17_x86_64.manylinux2014_x86_64.whl.metadata (6.7 kB)\n",
      "Collecting safetensors>=0.4.1 (from transformers)\n",
      "  Using cached safetensors-0.4.5-cp311-cp311-manylinux_2_17_x86_64.manylinux2014_x86_64.whl.metadata (3.8 kB)\n",
      "Requirement already satisfied: tqdm>=4.27 in /opt/conda/lib/python3.11/site-packages (from transformers) (4.66.1)\n",
      "Requirement already satisfied: fsspec>=2023.5.0 in /opt/conda/lib/python3.11/site-packages (from huggingface-hub<1.0,>=0.24.0->transformers) (2024.6.1)\n",
      "Requirement already satisfied: typing-extensions>=3.7.4.3 in /opt/conda/lib/python3.11/site-packages (from huggingface-hub<1.0,>=0.24.0->transformers) (4.12.2)\n",
      "Requirement already satisfied: charset-normalizer<4,>=2 in /opt/conda/lib/python3.11/site-packages (from requests->transformers) (3.3.0)\n",
      "Requirement already satisfied: idna<4,>=2.5 in /opt/conda/lib/python3.11/site-packages (from requests->transformers) (3.4)\n",
      "Requirement already satisfied: urllib3<3,>=1.21.1 in /opt/conda/lib/python3.11/site-packages (from requests->transformers) (2.0.7)\n",
      "Requirement already satisfied: certifi>=2017.4.17 in /opt/conda/lib/python3.11/site-packages (from requests->transformers) (2023.7.22)\n",
      "Using cached transformers-4.47.0-py3-none-any.whl (10.1 MB)\n",
      "Using cached huggingface_hub-0.26.5-py3-none-any.whl (447 kB)\n",
      "Using cached regex-2024.11.6-cp311-cp311-manylinux_2_17_x86_64.manylinux2014_x86_64.whl (792 kB)\n",
      "Using cached safetensors-0.4.5-cp311-cp311-manylinux_2_17_x86_64.manylinux2014_x86_64.whl (435 kB)\n",
      "Using cached tokenizers-0.21.0-cp39-abi3-manylinux_2_17_x86_64.manylinux2014_x86_64.whl (3.0 MB)\n",
      "Installing collected packages: safetensors, regex, huggingface-hub, tokenizers, transformers\n",
      "Successfully installed huggingface-hub-0.26.5 regex-2024.11.6 safetensors-0.4.5 tokenizers-0.21.0 transformers-4.47.0\n"
     ]
    }
   ],
   "source": [
    "!pip install transformers\n"
   ]
  },
  {
   "cell_type": "code",
   "execution_count": 4,
   "id": "020cd654-647c-4c74-92e0-3aa9701495b3",
   "metadata": {},
   "outputs": [],
   "source": [
    "import pandas as pd\n",
    "import matplotlib.pyplot as plt\n"
   ]
  },
  {
   "cell_type": "code",
   "execution_count": 5,
   "id": "7bce811b-149d-4e95-b6fd-188d02a4622f",
   "metadata": {
    "scrolled": true
   },
   "outputs": [],
   "source": [
    "file_path = \"stem_keyword_df4\"\n",
    "df_lemm = pd.read_parquet(file_path)"
   ]
  },
  {
   "cell_type": "code",
   "execution_count": 6,
   "id": "3ca6f51f-caf4-4f8c-84fa-1525f1ca83f4",
   "metadata": {},
   "outputs": [
    {
     "data": {
      "text/plain": [
       "(45915463, 9)"
      ]
     },
     "execution_count": 6,
     "metadata": {},
     "output_type": "execute_result"
    }
   ],
   "source": [
    "df_lemm.shape"
   ]
  },
  {
   "cell_type": "code",
   "execution_count": 7,
   "id": "76fc353f-ab7f-4400-8597-9d7fea67a5c7",
   "metadata": {},
   "outputs": [
    {
     "data": {
      "text/html": [
       "<div>\n",
       "<style scoped>\n",
       "    .dataframe tbody tr th:only-of-type {\n",
       "        vertical-align: middle;\n",
       "    }\n",
       "\n",
       "    .dataframe tbody tr th {\n",
       "        vertical-align: top;\n",
       "    }\n",
       "\n",
       "    .dataframe thead th {\n",
       "        text-align: right;\n",
       "    }\n",
       "</style>\n",
       "<table border=\"1\" class=\"dataframe\">\n",
       "  <thead>\n",
       "    <tr style=\"text-align: right;\">\n",
       "      <th></th>\n",
       "      <th>keyword</th>\n",
       "      <th>user_id</th>\n",
       "      <th>device_id</th>\n",
       "      <th>product_id</th>\n",
       "      <th>event</th>\n",
       "      <th>event_timestamp</th>\n",
       "      <th>event_date</th>\n",
       "      <th>platform</th>\n",
       "      <th>lemma_keywords</th>\n",
       "    </tr>\n",
       "  </thead>\n",
       "  <tbody>\n",
       "    <tr>\n",
       "      <th>0</th>\n",
       "      <td>remington одежда</td>\n",
       "      <td></td>\n",
       "      <td>c2fa705c-1453-4114-b02d-44546dd03f88</td>\n",
       "      <td>100068822100</td>\n",
       "      <td>listing_products_view</td>\n",
       "      <td>2024-11-15 10:42:08.995153200+03:00</td>\n",
       "      <td>2024-11-15</td>\n",
       "      <td>iOS</td>\n",
       "      <td>remington одежда</td>\n",
       "    </tr>\n",
       "    <tr>\n",
       "      <th>1</th>\n",
       "      <td>remington одежда</td>\n",
       "      <td></td>\n",
       "      <td>c2fa705c-1453-4114-b02d-44546dd03f88</td>\n",
       "      <td>100068822100</td>\n",
       "      <td>listing_products_view</td>\n",
       "      <td>2024-11-15 10:42:48.993401115+03:00</td>\n",
       "      <td>2024-11-15</td>\n",
       "      <td>iOS</td>\n",
       "      <td>remington одежда</td>\n",
       "    </tr>\n",
       "    <tr>\n",
       "      <th>2</th>\n",
       "      <td>remington одежда</td>\n",
       "      <td></td>\n",
       "      <td>c2fa705c-1453-4114-b02d-44546dd03f88</td>\n",
       "      <td>100068822100</td>\n",
       "      <td>listing_products_view</td>\n",
       "      <td>2024-11-15 10:42:53.970433544+03:00</td>\n",
       "      <td>2024-11-15</td>\n",
       "      <td>iOS</td>\n",
       "      <td>remington одежда</td>\n",
       "    </tr>\n",
       "    <tr>\n",
       "      <th>3</th>\n",
       "      <td>armytek</td>\n",
       "      <td>cjsnl3mf2jg5nj2b09g0</td>\n",
       "      <td>3263eefe-016a-405d-bebf-f014528010eb</td>\n",
       "      <td>100068822115</td>\n",
       "      <td>listing_products_view</td>\n",
       "      <td>2024-11-15 19:19:52.380778246+03:00</td>\n",
       "      <td>2024-11-15</td>\n",
       "      <td>iOS</td>\n",
       "      <td>armytek</td>\n",
       "    </tr>\n",
       "    <tr>\n",
       "      <th>4</th>\n",
       "      <td>armytek фонарь</td>\n",
       "      <td>cnd51vmf2jgdmh2je7pg</td>\n",
       "      <td>a85a1611-0168-4203-a274-9c1203aef849</td>\n",
       "      <td>100068822115</td>\n",
       "      <td>listing_products_view</td>\n",
       "      <td>2024-11-15 20:18:34.252203800+03:00</td>\n",
       "      <td>2024-11-15</td>\n",
       "      <td>iOS</td>\n",
       "      <td>armytek фонарь</td>\n",
       "    </tr>\n",
       "  </tbody>\n",
       "</table>\n",
       "</div>"
      ],
      "text/plain": [
       "            keyword               user_id  \\\n",
       "0  remington одежда                         \n",
       "1  remington одежда                         \n",
       "2  remington одежда                         \n",
       "3           armytek  cjsnl3mf2jg5nj2b09g0   \n",
       "4    armytek фонарь  cnd51vmf2jgdmh2je7pg   \n",
       "\n",
       "                              device_id    product_id                  event  \\\n",
       "0  c2fa705c-1453-4114-b02d-44546dd03f88  100068822100  listing_products_view   \n",
       "1  c2fa705c-1453-4114-b02d-44546dd03f88  100068822100  listing_products_view   \n",
       "2  c2fa705c-1453-4114-b02d-44546dd03f88  100068822100  listing_products_view   \n",
       "3  3263eefe-016a-405d-bebf-f014528010eb  100068822115  listing_products_view   \n",
       "4  a85a1611-0168-4203-a274-9c1203aef849  100068822115  listing_products_view   \n",
       "\n",
       "                      event_timestamp event_date platform    lemma_keywords  \n",
       "0 2024-11-15 10:42:08.995153200+03:00 2024-11-15      iOS  remington одежда  \n",
       "1 2024-11-15 10:42:48.993401115+03:00 2024-11-15      iOS  remington одежда  \n",
       "2 2024-11-15 10:42:53.970433544+03:00 2024-11-15      iOS  remington одежда  \n",
       "3 2024-11-15 19:19:52.380778246+03:00 2024-11-15      iOS           armytek  \n",
       "4 2024-11-15 20:18:34.252203800+03:00 2024-11-15      iOS    armytek фонарь  "
      ]
     },
     "execution_count": 7,
     "metadata": {},
     "output_type": "execute_result"
    }
   ],
   "source": [
    "df_lemm.head()"
   ]
  },
  {
   "cell_type": "code",
   "execution_count": 8,
   "id": "1c6a8877-f181-4be5-9ac5-2c688192f48c",
   "metadata": {},
   "outputs": [],
   "source": [
    "from tqdm.auto import tqdm\n",
    "tqdm.pandas()"
   ]
  },
  {
   "cell_type": "code",
   "execution_count": 9,
   "id": "0c2a8fc1-e345-4c56-a867-3dd2097bcd8c",
   "metadata": {},
   "outputs": [
    {
     "data": {
      "application/vnd.jupyter.widget-view+json": {
       "model_id": "42c8f1252d7c47f3873587e864e771f5",
       "version_major": 2,
       "version_minor": 0
      },
      "text/plain": [
       "Processing queries:   0%|          | 0/45915463 [00:00<?, ?it/s]"
      ]
     },
     "metadata": {},
     "output_type": "display_data"
    }
   ],
   "source": [
    "df_lemm['sorted_keywords'] = [' '.join(sorted(query.split())) for query in tqdm(df_lemm['lemma_keywords'], desc=\"Processing queries\")]\n"
   ]
  },
  {
   "cell_type": "code",
   "execution_count": 10,
   "id": "b5bd06de-06aa-4323-bd29-b615792aa95f",
   "metadata": {},
   "outputs": [
    {
     "data": {
      "text/html": [
       "<div>\n",
       "<style scoped>\n",
       "    .dataframe tbody tr th:only-of-type {\n",
       "        vertical-align: middle;\n",
       "    }\n",
       "\n",
       "    .dataframe tbody tr th {\n",
       "        vertical-align: top;\n",
       "    }\n",
       "\n",
       "    .dataframe thead th {\n",
       "        text-align: right;\n",
       "    }\n",
       "</style>\n",
       "<table border=\"1\" class=\"dataframe\">\n",
       "  <thead>\n",
       "    <tr style=\"text-align: right;\">\n",
       "      <th></th>\n",
       "      <th>lemma_keywords</th>\n",
       "      <th>sorted_keywords</th>\n",
       "    </tr>\n",
       "  </thead>\n",
       "  <tbody>\n",
       "    <tr>\n",
       "      <th>0</th>\n",
       "      <td>remington одежда</td>\n",
       "      <td>remington одежда</td>\n",
       "    </tr>\n",
       "    <tr>\n",
       "      <th>1</th>\n",
       "      <td>remington одежда</td>\n",
       "      <td>remington одежда</td>\n",
       "    </tr>\n",
       "    <tr>\n",
       "      <th>2</th>\n",
       "      <td>remington одежда</td>\n",
       "      <td>remington одежда</td>\n",
       "    </tr>\n",
       "    <tr>\n",
       "      <th>3</th>\n",
       "      <td>armytek</td>\n",
       "      <td>armytek</td>\n",
       "    </tr>\n",
       "    <tr>\n",
       "      <th>4</th>\n",
       "      <td>armytek фонарь</td>\n",
       "      <td>armytek фонарь</td>\n",
       "    </tr>\n",
       "    <tr>\n",
       "      <th>5</th>\n",
       "      <td>чехол для ружьё</td>\n",
       "      <td>для ружьё чехол</td>\n",
       "    </tr>\n",
       "    <tr>\n",
       "      <th>6</th>\n",
       "      <td>чехол для ружьё</td>\n",
       "      <td>для ружьё чехол</td>\n",
       "    </tr>\n",
       "    <tr>\n",
       "      <th>7</th>\n",
       "      <td>чехол для ружьё</td>\n",
       "      <td>для ружьё чехол</td>\n",
       "    </tr>\n",
       "    <tr>\n",
       "      <th>8</th>\n",
       "      <td>чехол для ружьё</td>\n",
       "      <td>для ружьё чехол</td>\n",
       "    </tr>\n",
       "    <tr>\n",
       "      <th>9</th>\n",
       "      <td>чехол для ружьё</td>\n",
       "      <td>для ружьё чехол</td>\n",
       "    </tr>\n",
       "    <tr>\n",
       "      <th>10</th>\n",
       "      <td>чехол для ружьё</td>\n",
       "      <td>для ружьё чехол</td>\n",
       "    </tr>\n",
       "    <tr>\n",
       "      <th>11</th>\n",
       "      <td>чехол для ружьё</td>\n",
       "      <td>для ружьё чехол</td>\n",
       "    </tr>\n",
       "    <tr>\n",
       "      <th>12</th>\n",
       "      <td>чехол для ружьё</td>\n",
       "      <td>для ружьё чехол</td>\n",
       "    </tr>\n",
       "    <tr>\n",
       "      <th>13</th>\n",
       "      <td>ароматизатор в машина по мотив</td>\n",
       "      <td>ароматизатор в машина мотив по</td>\n",
       "    </tr>\n",
       "    <tr>\n",
       "      <th>14</th>\n",
       "      <td>киа соул 3</td>\n",
       "      <td>3 киа соул</td>\n",
       "    </tr>\n",
       "    <tr>\n",
       "      <th>15</th>\n",
       "      <td>касоя фильт</td>\n",
       "      <td>касоя фильт</td>\n",
       "    </tr>\n",
       "    <tr>\n",
       "      <th>16</th>\n",
       "      <td>феромакс</td>\n",
       "      <td>феромакс</td>\n",
       "    </tr>\n",
       "    <tr>\n",
       "      <th>17</th>\n",
       "      <td>тоф барсик</td>\n",
       "      <td>барсик тоф</td>\n",
       "    </tr>\n",
       "    <tr>\n",
       "      <th>18</th>\n",
       "      <td>лакомство для кошка</td>\n",
       "      <td>для кошка лакомство</td>\n",
       "    </tr>\n",
       "    <tr>\n",
       "      <th>19</th>\n",
       "      <td>лакомство для кошка</td>\n",
       "      <td>для кошка лакомство</td>\n",
       "    </tr>\n",
       "  </tbody>\n",
       "</table>\n",
       "</div>"
      ],
      "text/plain": [
       "                    lemma_keywords                 sorted_keywords\n",
       "0                 remington одежда                remington одежда\n",
       "1                 remington одежда                remington одежда\n",
       "2                 remington одежда                remington одежда\n",
       "3                          armytek                         armytek\n",
       "4                   armytek фонарь                  armytek фонарь\n",
       "5                  чехол для ружьё                 для ружьё чехол\n",
       "6                  чехол для ружьё                 для ружьё чехол\n",
       "7                  чехол для ружьё                 для ружьё чехол\n",
       "8                  чехол для ружьё                 для ружьё чехол\n",
       "9                  чехол для ружьё                 для ружьё чехол\n",
       "10                 чехол для ружьё                 для ружьё чехол\n",
       "11                 чехол для ружьё                 для ружьё чехол\n",
       "12                 чехол для ружьё                 для ружьё чехол\n",
       "13  ароматизатор в машина по мотив  ароматизатор в машина мотив по\n",
       "14                      киа соул 3                      3 киа соул\n",
       "15                     касоя фильт                     касоя фильт\n",
       "16                        феромакс                        феромакс\n",
       "17                      тоф барсик                      барсик тоф\n",
       "18             лакомство для кошка             для кошка лакомство\n",
       "19             лакомство для кошка             для кошка лакомство"
      ]
     },
     "execution_count": 10,
     "metadata": {},
     "output_type": "execute_result"
    }
   ],
   "source": [
    "df_lemm[['lemma_keywords', 'sorted_keywords']][:20]"
   ]
  },
  {
   "cell_type": "code",
   "execution_count": null,
   "id": "1b58feb6-454e-4171-9773-038b1ed1367f",
   "metadata": {},
   "outputs": [],
   "source": []
  },
  {
   "cell_type": "code",
   "execution_count": 11,
   "id": "33eff825-f2f4-4187-aa63-11d3c11fcf90",
   "metadata": {},
   "outputs": [
    {
     "data": {
      "text/html": [
       "<div>\n",
       "<style scoped>\n",
       "    .dataframe tbody tr th:only-of-type {\n",
       "        vertical-align: middle;\n",
       "    }\n",
       "\n",
       "    .dataframe tbody tr th {\n",
       "        vertical-align: top;\n",
       "    }\n",
       "\n",
       "    .dataframe thead th {\n",
       "        text-align: right;\n",
       "    }\n",
       "</style>\n",
       "<table border=\"1\" class=\"dataframe\">\n",
       "  <thead>\n",
       "    <tr style=\"text-align: right;\">\n",
       "      <th></th>\n",
       "      <th>sorted_keywords</th>\n",
       "      <th>count</th>\n",
       "    </tr>\n",
       "  </thead>\n",
       "  <tbody>\n",
       "    <tr>\n",
       "      <th>0</th>\n",
       "      <td>машина стиральный</td>\n",
       "      <td>209488</td>\n",
       "    </tr>\n",
       "    <tr>\n",
       "      <th>1</th>\n",
       "      <td>телевизор</td>\n",
       "      <td>164980</td>\n",
       "    </tr>\n",
       "    <tr>\n",
       "      <th>2</th>\n",
       "      <td>смартфон</td>\n",
       "      <td>158136</td>\n",
       "    </tr>\n",
       "    <tr>\n",
       "      <th>3</th>\n",
       "      <td>kuchenland</td>\n",
       "      <td>154305</td>\n",
       "    </tr>\n",
       "    <tr>\n",
       "      <th>4</th>\n",
       "      <td>чайник электрический</td>\n",
       "      <td>149850</td>\n",
       "    </tr>\n",
       "    <tr>\n",
       "      <th>...</th>\n",
       "      <td>...</td>\n",
       "      <td>...</td>\n",
       "    </tr>\n",
       "    <tr>\n",
       "      <th>378112</th>\n",
       "      <td>merrel зимний кроссовок мужской</td>\n",
       "      <td>1</td>\n",
       "    </tr>\n",
       "    <tr>\n",
       "      <th>378113</th>\n",
       "      <td>f-t83505</td>\n",
       "      <td>1</td>\n",
       "    </tr>\n",
       "    <tr>\n",
       "      <th>378114</th>\n",
       "      <td>2s air dji аккамулятор</td>\n",
       "      <td>1</td>\n",
       "    </tr>\n",
       "    <tr>\n",
       "      <th>378115</th>\n",
       "      <td>600013994957</td>\n",
       "      <td>1</td>\n",
       "    </tr>\n",
       "    <tr>\n",
       "      <th>378116</th>\n",
       "      <td>600013994958</td>\n",
       "      <td>1</td>\n",
       "    </tr>\n",
       "  </tbody>\n",
       "</table>\n",
       "<p>378117 rows × 2 columns</p>\n",
       "</div>"
      ],
      "text/plain": [
       "                        sorted_keywords   count\n",
       "0                     машина стиральный  209488\n",
       "1                             телевизор  164980\n",
       "2                              смартфон  158136\n",
       "3                            kuchenland  154305\n",
       "4                  чайник электрический  149850\n",
       "...                                 ...     ...\n",
       "378112  merrel зимний кроссовок мужской       1\n",
       "378113                         f-t83505       1\n",
       "378114           2s air dji аккамулятор       1\n",
       "378115                     600013994957       1\n",
       "378116                     600013994958       1\n",
       "\n",
       "[378117 rows x 2 columns]"
      ]
     },
     "execution_count": 11,
     "metadata": {},
     "output_type": "execute_result"
    }
   ],
   "source": [
    "keyword_counts = df_lemm['sorted_keywords'].value_counts().reset_index()\n",
    "keyword_counts"
   ]
  },
  {
   "cell_type": "code",
   "execution_count": 12,
   "id": "53d5b8f4-5ce6-4244-9fc8-32f120580bc6",
   "metadata": {},
   "outputs": [
    {
     "data": {
      "text/html": [
       "<div>\n",
       "<style scoped>\n",
       "    .dataframe tbody tr th:only-of-type {\n",
       "        vertical-align: middle;\n",
       "    }\n",
       "\n",
       "    .dataframe tbody tr th {\n",
       "        vertical-align: top;\n",
       "    }\n",
       "\n",
       "    .dataframe thead th {\n",
       "        text-align: right;\n",
       "    }\n",
       "</style>\n",
       "<table border=\"1\" class=\"dataframe\">\n",
       "  <thead>\n",
       "    <tr style=\"text-align: right;\">\n",
       "      <th></th>\n",
       "      <th>sorted_keywords</th>\n",
       "      <th>frequency</th>\n",
       "    </tr>\n",
       "  </thead>\n",
       "  <tbody>\n",
       "    <tr>\n",
       "      <th>0</th>\n",
       "      <td>машина стиральный</td>\n",
       "      <td>209488</td>\n",
       "    </tr>\n",
       "    <tr>\n",
       "      <th>1</th>\n",
       "      <td>телевизор</td>\n",
       "      <td>164980</td>\n",
       "    </tr>\n",
       "    <tr>\n",
       "      <th>2</th>\n",
       "      <td>смартфон</td>\n",
       "      <td>158136</td>\n",
       "    </tr>\n",
       "    <tr>\n",
       "      <th>3</th>\n",
       "      <td>kuchenland</td>\n",
       "      <td>154305</td>\n",
       "    </tr>\n",
       "    <tr>\n",
       "      <th>4</th>\n",
       "      <td>чайник электрический</td>\n",
       "      <td>149850</td>\n",
       "    </tr>\n",
       "    <tr>\n",
       "      <th>...</th>\n",
       "      <td>...</td>\n",
       "      <td>...</td>\n",
       "    </tr>\n",
       "    <tr>\n",
       "      <th>378112</th>\n",
       "      <td>merrel зимний кроссовок мужской</td>\n",
       "      <td>1</td>\n",
       "    </tr>\n",
       "    <tr>\n",
       "      <th>378113</th>\n",
       "      <td>f-t83505</td>\n",
       "      <td>1</td>\n",
       "    </tr>\n",
       "    <tr>\n",
       "      <th>378114</th>\n",
       "      <td>2s air dji аккамулятор</td>\n",
       "      <td>1</td>\n",
       "    </tr>\n",
       "    <tr>\n",
       "      <th>378115</th>\n",
       "      <td>600013994957</td>\n",
       "      <td>1</td>\n",
       "    </tr>\n",
       "    <tr>\n",
       "      <th>378116</th>\n",
       "      <td>600013994958</td>\n",
       "      <td>1</td>\n",
       "    </tr>\n",
       "  </tbody>\n",
       "</table>\n",
       "<p>378117 rows × 2 columns</p>\n",
       "</div>"
      ],
      "text/plain": [
       "                        sorted_keywords  frequency\n",
       "0                     машина стиральный     209488\n",
       "1                             телевизор     164980\n",
       "2                              смартфон     158136\n",
       "3                            kuchenland     154305\n",
       "4                  чайник электрический     149850\n",
       "...                                 ...        ...\n",
       "378112  merrel зимний кроссовок мужской          1\n",
       "378113                         f-t83505          1\n",
       "378114           2s air dji аккамулятор          1\n",
       "378115                     600013994957          1\n",
       "378116                     600013994958          1\n",
       "\n",
       "[378117 rows x 2 columns]"
      ]
     },
     "execution_count": 12,
     "metadata": {},
     "output_type": "execute_result"
    }
   ],
   "source": [
    "keyword_counts.columns = ['sorted_keywords', 'frequency']\n",
    "keyword_counts"
   ]
  },
  {
   "cell_type": "code",
   "execution_count": 13,
   "id": "703af74c-8d61-4547-a45a-2fd6fe8bf44f",
   "metadata": {},
   "outputs": [
    {
     "name": "stdout",
     "output_type": "stream",
     "text": [
      "Количество низкочастотных запросов: 11554\n"
     ]
    }
   ],
   "source": [
    "low_freq_threshold = keyword_counts['frequency'].quantile(0.02)\n",
    "# print(low_freq_threshold)\n",
    "low_freq_keywords = keyword_counts[keyword_counts['frequency'] <= low_freq_threshold]\n",
    "\n",
    "print(f\"Количество низкочастотных запросов: {len(low_freq_keywords)}\")"
   ]
  },
  {
   "cell_type": "code",
   "execution_count": 14,
   "id": "77a5bef6-91af-4e37-a8ea-85945347c76f",
   "metadata": {},
   "outputs": [
    {
     "data": {
      "text/html": [
       "<div>\n",
       "<style scoped>\n",
       "    .dataframe tbody tr th:only-of-type {\n",
       "        vertical-align: middle;\n",
       "    }\n",
       "\n",
       "    .dataframe tbody tr th {\n",
       "        vertical-align: top;\n",
       "    }\n",
       "\n",
       "    .dataframe thead th {\n",
       "        text-align: right;\n",
       "    }\n",
       "</style>\n",
       "<table border=\"1\" class=\"dataframe\">\n",
       "  <thead>\n",
       "    <tr style=\"text-align: right;\">\n",
       "      <th></th>\n",
       "      <th>sorted_keywords</th>\n",
       "      <th>frequency</th>\n",
       "    </tr>\n",
       "  </thead>\n",
       "  <tbody>\n",
       "    <tr>\n",
       "      <th>366563</th>\n",
       "      <td>10050fe hhy hyundai бензиновый генератор</td>\n",
       "      <td>1</td>\n",
       "    </tr>\n",
       "    <tr>\n",
       "      <th>366564</th>\n",
       "      <td>100042536578</td>\n",
       "      <td>1</td>\n",
       "    </tr>\n",
       "    <tr>\n",
       "      <th>366565</th>\n",
       "      <td>гринч маска</td>\n",
       "      <td>1</td>\n",
       "    </tr>\n",
       "    <tr>\n",
       "      <th>366566</th>\n",
       "      <td>, , , 32 81 hd sber sdx-32h2128 smart tv смотр...</td>\n",
       "      <td>1</td>\n",
       "    </tr>\n",
       "    <tr>\n",
       "      <th>366567</th>\n",
       "      <td>металлидти</td>\n",
       "      <td>1</td>\n",
       "    </tr>\n",
       "    <tr>\n",
       "      <th>366568</th>\n",
       "      <td>металлидти сольфеджио</td>\n",
       "      <td>1</td>\n",
       "    </tr>\n",
       "    <tr>\n",
       "      <th>366569</th>\n",
       "      <td>zofft фен-стайлер</td>\n",
       "      <td>1</td>\n",
       "    </tr>\n",
       "    <tr>\n",
       "      <th>366570</th>\n",
       "      <td>гельтечь пилинг сыворотка</td>\n",
       "      <td>1</td>\n",
       "    </tr>\n",
       "    <tr>\n",
       "      <th>366571</th>\n",
       "      <td>dell g2524h монитор</td>\n",
       "      <td>1</td>\n",
       "    </tr>\n",
       "    <tr>\n",
       "      <th>366572</th>\n",
       "      <td>диван кровать оскар</td>\n",
       "      <td>1</td>\n",
       "    </tr>\n",
       "    <tr>\n",
       "      <th>366573</th>\n",
       "      <td>ra-kv0402s</td>\n",
       "      <td>1</td>\n",
       "    </tr>\n",
       "    <tr>\n",
       "      <th>366574</th>\n",
       "      <td>ng332014r</td>\n",
       "      <td>1</td>\n",
       "    </tr>\n",
       "    <tr>\n",
       "      <th>366575</th>\n",
       "      <td>95 agm delta</td>\n",
       "      <td>1</td>\n",
       "    </tr>\n",
       "    <tr>\n",
       "      <th>366576</th>\n",
       "      <td>fs40 nobo ножка</td>\n",
       "      <td>1</td>\n",
       "    </tr>\n",
       "    <tr>\n",
       "      <th>366577</th>\n",
       "      <td>600004430695</td>\n",
       "      <td>1</td>\n",
       "    </tr>\n",
       "    <tr>\n",
       "      <th>366578</th>\n",
       "      <td>100024076580</td>\n",
       "      <td>1</td>\n",
       "    </tr>\n",
       "    <tr>\n",
       "      <th>366579</th>\n",
       "      <td>16 дивай софия</td>\n",
       "      <td>1</td>\n",
       "    </tr>\n",
       "    <tr>\n",
       "      <th>366580</th>\n",
       "      <td>гриньча маска</td>\n",
       "      <td>1</td>\n",
       "    </tr>\n",
       "    <tr>\n",
       "      <th>366581</th>\n",
       "      <td>airgrid вытяжной зонт</td>\n",
       "      <td>1</td>\n",
       "    </tr>\n",
       "    <tr>\n",
       "      <th>366582</th>\n",
       "      <td>игоровой руль</td>\n",
       "      <td>1</td>\n",
       "    </tr>\n",
       "  </tbody>\n",
       "</table>\n",
       "</div>"
      ],
      "text/plain": [
       "                                          sorted_keywords  frequency\n",
       "366563           10050fe hhy hyundai бензиновый генератор          1\n",
       "366564                                       100042536578          1\n",
       "366565                                        гринч маска          1\n",
       "366566  , , , 32 81 hd sber sdx-32h2128 smart tv смотр...          1\n",
       "366567                                         металлидти          1\n",
       "366568                              металлидти сольфеджио          1\n",
       "366569                                  zofft фен-стайлер          1\n",
       "366570                          гельтечь пилинг сыворотка          1\n",
       "366571                                dell g2524h монитор          1\n",
       "366572                                диван кровать оскар          1\n",
       "366573                                         ra-kv0402s          1\n",
       "366574                                          ng332014r          1\n",
       "366575                                       95 agm delta          1\n",
       "366576                                    fs40 nobo ножка          1\n",
       "366577                                       600004430695          1\n",
       "366578                                       100024076580          1\n",
       "366579                                     16 дивай софия          1\n",
       "366580                                      гриньча маска          1\n",
       "366581                              airgrid вытяжной зонт          1\n",
       "366582                                      игоровой руль          1"
      ]
     },
     "execution_count": 14,
     "metadata": {},
     "output_type": "execute_result"
    }
   ],
   "source": [
    "low_freq_keywords[:20]"
   ]
  },
  {
   "cell_type": "code",
   "execution_count": 15,
   "id": "2594383f-623d-481a-a27d-1c08c399eb11",
   "metadata": {},
   "outputs": [],
   "source": [
    "pattern = r\"\\b\\d{12}\\b\"\n",
    "\n",
    "# Удаляем строки, где в lemma_keywords есть артикулы\n",
    "low_freq_keywords = low_freq_keywords[~low_freq_keywords['sorted_keywords'].str.contains(pattern, na=False)]\n",
    "# 100042536578\n"
   ]
  },
  {
   "cell_type": "code",
   "execution_count": 16,
   "id": "57561259-adc8-4a87-b448-0477a6775323",
   "metadata": {},
   "outputs": [
    {
     "data": {
      "text/html": [
       "<div>\n",
       "<style scoped>\n",
       "    .dataframe tbody tr th:only-of-type {\n",
       "        vertical-align: middle;\n",
       "    }\n",
       "\n",
       "    .dataframe tbody tr th {\n",
       "        vertical-align: top;\n",
       "    }\n",
       "\n",
       "    .dataframe thead th {\n",
       "        text-align: right;\n",
       "    }\n",
       "</style>\n",
       "<table border=\"1\" class=\"dataframe\">\n",
       "  <thead>\n",
       "    <tr style=\"text-align: right;\">\n",
       "      <th></th>\n",
       "      <th>sorted_keywords</th>\n",
       "      <th>frequency</th>\n",
       "    </tr>\n",
       "  </thead>\n",
       "  <tbody>\n",
       "    <tr>\n",
       "      <th>366563</th>\n",
       "      <td>10050fe hhy hyundai бензиновый генератор</td>\n",
       "      <td>1</td>\n",
       "    </tr>\n",
       "    <tr>\n",
       "      <th>366565</th>\n",
       "      <td>гринч маска</td>\n",
       "      <td>1</td>\n",
       "    </tr>\n",
       "    <tr>\n",
       "      <th>366566</th>\n",
       "      <td>, , , 32 81 hd sber sdx-32h2128 smart tv смотр...</td>\n",
       "      <td>1</td>\n",
       "    </tr>\n",
       "    <tr>\n",
       "      <th>366567</th>\n",
       "      <td>металлидти</td>\n",
       "      <td>1</td>\n",
       "    </tr>\n",
       "    <tr>\n",
       "      <th>366568</th>\n",
       "      <td>металлидти сольфеджио</td>\n",
       "      <td>1</td>\n",
       "    </tr>\n",
       "    <tr>\n",
       "      <th>366569</th>\n",
       "      <td>zofft фен-стайлер</td>\n",
       "      <td>1</td>\n",
       "    </tr>\n",
       "    <tr>\n",
       "      <th>366570</th>\n",
       "      <td>гельтечь пилинг сыворотка</td>\n",
       "      <td>1</td>\n",
       "    </tr>\n",
       "    <tr>\n",
       "      <th>366571</th>\n",
       "      <td>dell g2524h монитор</td>\n",
       "      <td>1</td>\n",
       "    </tr>\n",
       "    <tr>\n",
       "      <th>366572</th>\n",
       "      <td>диван кровать оскар</td>\n",
       "      <td>1</td>\n",
       "    </tr>\n",
       "    <tr>\n",
       "      <th>366573</th>\n",
       "      <td>ra-kv0402s</td>\n",
       "      <td>1</td>\n",
       "    </tr>\n",
       "    <tr>\n",
       "      <th>366574</th>\n",
       "      <td>ng332014r</td>\n",
       "      <td>1</td>\n",
       "    </tr>\n",
       "    <tr>\n",
       "      <th>366575</th>\n",
       "      <td>95 agm delta</td>\n",
       "      <td>1</td>\n",
       "    </tr>\n",
       "    <tr>\n",
       "      <th>366576</th>\n",
       "      <td>fs40 nobo ножка</td>\n",
       "      <td>1</td>\n",
       "    </tr>\n",
       "    <tr>\n",
       "      <th>366579</th>\n",
       "      <td>16 дивай софия</td>\n",
       "      <td>1</td>\n",
       "    </tr>\n",
       "    <tr>\n",
       "      <th>366580</th>\n",
       "      <td>гриньча маска</td>\n",
       "      <td>1</td>\n",
       "    </tr>\n",
       "    <tr>\n",
       "      <th>366581</th>\n",
       "      <td>airgrid вытяжной зонт</td>\n",
       "      <td>1</td>\n",
       "    </tr>\n",
       "    <tr>\n",
       "      <th>366582</th>\n",
       "      <td>игоровой руль</td>\n",
       "      <td>1</td>\n",
       "    </tr>\n",
       "    <tr>\n",
       "      <th>366583</th>\n",
       "      <td>garlyn увлажнитель</td>\n",
       "      <td>1</td>\n",
       "    </tr>\n",
       "    <tr>\n",
       "      <th>366584</th>\n",
       "      <td>70mai up</td>\n",
       "      <td>1</td>\n",
       "    </tr>\n",
       "    <tr>\n",
       "      <th>366585</th>\n",
       "      <td>xgimi z7x</td>\n",
       "      <td>1</td>\n",
       "    </tr>\n",
       "  </tbody>\n",
       "</table>\n",
       "</div>"
      ],
      "text/plain": [
       "                                          sorted_keywords  frequency\n",
       "366563           10050fe hhy hyundai бензиновый генератор          1\n",
       "366565                                        гринч маска          1\n",
       "366566  , , , 32 81 hd sber sdx-32h2128 smart tv смотр...          1\n",
       "366567                                         металлидти          1\n",
       "366568                              металлидти сольфеджио          1\n",
       "366569                                  zofft фен-стайлер          1\n",
       "366570                          гельтечь пилинг сыворотка          1\n",
       "366571                                dell g2524h монитор          1\n",
       "366572                                диван кровать оскар          1\n",
       "366573                                         ra-kv0402s          1\n",
       "366574                                          ng332014r          1\n",
       "366575                                       95 agm delta          1\n",
       "366576                                    fs40 nobo ножка          1\n",
       "366579                                     16 дивай софия          1\n",
       "366580                                      гриньча маска          1\n",
       "366581                              airgrid вытяжной зонт          1\n",
       "366582                                      игоровой руль          1\n",
       "366583                                 garlyn увлажнитель          1\n",
       "366584                                           70mai up          1\n",
       "366585                                          xgimi z7x          1"
      ]
     },
     "execution_count": 16,
     "metadata": {},
     "output_type": "execute_result"
    }
   ],
   "source": [
    "low_freq_keywords[:20]"
   ]
  },
  {
   "cell_type": "code",
   "execution_count": 17,
   "id": "5b186b57-d226-4a6a-ad65-13f3528c6908",
   "metadata": {},
   "outputs": [
    {
     "data": {
      "text/plain": [
       "(10631, 2)"
      ]
     },
     "execution_count": 17,
     "metadata": {},
     "output_type": "execute_result"
    }
   ],
   "source": [
    "low_freq_keywords.shape"
   ]
  },
  {
   "cell_type": "code",
   "execution_count": null,
   "id": "b0bca561-7834-41c5-af6a-239299690c3e",
   "metadata": {},
   "outputs": [],
   "source": []
  },
  {
   "cell_type": "markdown",
   "id": "2dd5b8b5-06d5-4fd6-aaed-2c4706430585",
   "metadata": {},
   "source": [
    "# Векторизация с помощью BERT"
   ]
  },
  {
   "cell_type": "code",
   "execution_count": 1,
   "id": "9406a381-b57d-40b5-b770-c0de7ebd561f",
   "metadata": {
    "scrolled": true
   },
   "outputs": [
    {
     "ename": "JSONDecodeError",
     "evalue": "Expecting value: line 1 column 1 (char 0)",
     "output_type": "error",
     "traceback": [
      "\u001b[0;31m---------------------------------------------------------------------------\u001b[0m",
      "\u001b[0;31mJSONDecodeError\u001b[0m                           Traceback (most recent call last)",
      "Cell \u001b[0;32mIn[1], line 4\u001b[0m\n\u001b[1;32m      2\u001b[0m \u001b[38;5;28;01mimport\u001b[39;00m \u001b[38;5;21;01mtorch\u001b[39;00m\n\u001b[1;32m      3\u001b[0m model_name \u001b[38;5;241m=\u001b[39m \u001b[38;5;124m\"\u001b[39m\u001b[38;5;124mbert-base-multilingual-uncased\u001b[39m\u001b[38;5;124m\"\u001b[39m\n\u001b[0;32m----> 4\u001b[0m tokenizer \u001b[38;5;241m=\u001b[39m \u001b[43mAutoTokenizer\u001b[49m\u001b[38;5;241;43m.\u001b[39;49m\u001b[43mfrom_pretrained\u001b[49m\u001b[43m(\u001b[49m\u001b[43mmodel_name\u001b[49m\u001b[43m)\u001b[49m\n\u001b[1;32m      5\u001b[0m model \u001b[38;5;241m=\u001b[39m AutoModel\u001b[38;5;241m.\u001b[39mfrom_pretrained(model_name)\n",
      "File \u001b[0;32m/opt/conda/lib/python3.11/site-packages/transformers/models/auto/tokenization_auto.py:871\u001b[0m, in \u001b[0;36mAutoTokenizer.from_pretrained\u001b[0;34m(cls, pretrained_model_name_or_path, *inputs, **kwargs)\u001b[0m\n\u001b[1;32m    868\u001b[0m     \u001b[38;5;28;01mreturn\u001b[39;00m tokenizer_class\u001b[38;5;241m.\u001b[39mfrom_pretrained(pretrained_model_name_or_path, \u001b[38;5;241m*\u001b[39minputs, \u001b[38;5;241m*\u001b[39m\u001b[38;5;241m*\u001b[39mkwargs)\n\u001b[1;32m    870\u001b[0m \u001b[38;5;66;03m# Next, let's try to use the tokenizer_config file to get the tokenizer class.\u001b[39;00m\n\u001b[0;32m--> 871\u001b[0m tokenizer_config \u001b[38;5;241m=\u001b[39m \u001b[43mget_tokenizer_config\u001b[49m\u001b[43m(\u001b[49m\u001b[43mpretrained_model_name_or_path\u001b[49m\u001b[43m,\u001b[49m\u001b[43m \u001b[49m\u001b[38;5;241;43m*\u001b[39;49m\u001b[38;5;241;43m*\u001b[39;49m\u001b[43mkwargs\u001b[49m\u001b[43m)\u001b[49m\n\u001b[1;32m    872\u001b[0m \u001b[38;5;28;01mif\u001b[39;00m \u001b[38;5;124m\"\u001b[39m\u001b[38;5;124m_commit_hash\u001b[39m\u001b[38;5;124m\"\u001b[39m \u001b[38;5;129;01min\u001b[39;00m tokenizer_config:\n\u001b[1;32m    873\u001b[0m     kwargs[\u001b[38;5;124m\"\u001b[39m\u001b[38;5;124m_commit_hash\u001b[39m\u001b[38;5;124m\"\u001b[39m] \u001b[38;5;241m=\u001b[39m tokenizer_config[\u001b[38;5;124m\"\u001b[39m\u001b[38;5;124m_commit_hash\u001b[39m\u001b[38;5;124m\"\u001b[39m]\n",
      "File \u001b[0;32m/opt/conda/lib/python3.11/site-packages/transformers/models/auto/tokenization_auto.py:725\u001b[0m, in \u001b[0;36mget_tokenizer_config\u001b[0;34m(pretrained_model_name_or_path, cache_dir, force_download, resume_download, proxies, token, revision, local_files_only, subfolder, **kwargs)\u001b[0m\n\u001b[1;32m    722\u001b[0m commit_hash \u001b[38;5;241m=\u001b[39m extract_commit_hash(resolved_config_file, commit_hash)\n\u001b[1;32m    724\u001b[0m \u001b[38;5;28;01mwith\u001b[39;00m \u001b[38;5;28mopen\u001b[39m(resolved_config_file, encoding\u001b[38;5;241m=\u001b[39m\u001b[38;5;124m\"\u001b[39m\u001b[38;5;124mutf-8\u001b[39m\u001b[38;5;124m\"\u001b[39m) \u001b[38;5;28;01mas\u001b[39;00m reader:\n\u001b[0;32m--> 725\u001b[0m     result \u001b[38;5;241m=\u001b[39m \u001b[43mjson\u001b[49m\u001b[38;5;241;43m.\u001b[39;49m\u001b[43mload\u001b[49m\u001b[43m(\u001b[49m\u001b[43mreader\u001b[49m\u001b[43m)\u001b[49m\n\u001b[1;32m    726\u001b[0m result[\u001b[38;5;124m\"\u001b[39m\u001b[38;5;124m_commit_hash\u001b[39m\u001b[38;5;124m\"\u001b[39m] \u001b[38;5;241m=\u001b[39m commit_hash\n\u001b[1;32m    727\u001b[0m \u001b[38;5;28;01mreturn\u001b[39;00m result\n",
      "File \u001b[0;32m/opt/conda/lib/python3.11/json/__init__.py:293\u001b[0m, in \u001b[0;36mload\u001b[0;34m(fp, cls, object_hook, parse_float, parse_int, parse_constant, object_pairs_hook, **kw)\u001b[0m\n\u001b[1;32m    274\u001b[0m \u001b[38;5;28;01mdef\u001b[39;00m \u001b[38;5;21mload\u001b[39m(fp, \u001b[38;5;241m*\u001b[39m, \u001b[38;5;28mcls\u001b[39m\u001b[38;5;241m=\u001b[39m\u001b[38;5;28;01mNone\u001b[39;00m, object_hook\u001b[38;5;241m=\u001b[39m\u001b[38;5;28;01mNone\u001b[39;00m, parse_float\u001b[38;5;241m=\u001b[39m\u001b[38;5;28;01mNone\u001b[39;00m,\n\u001b[1;32m    275\u001b[0m         parse_int\u001b[38;5;241m=\u001b[39m\u001b[38;5;28;01mNone\u001b[39;00m, parse_constant\u001b[38;5;241m=\u001b[39m\u001b[38;5;28;01mNone\u001b[39;00m, object_pairs_hook\u001b[38;5;241m=\u001b[39m\u001b[38;5;28;01mNone\u001b[39;00m, \u001b[38;5;241m*\u001b[39m\u001b[38;5;241m*\u001b[39mkw):\n\u001b[1;32m    276\u001b[0m \u001b[38;5;250m    \u001b[39m\u001b[38;5;124;03m\"\"\"Deserialize ``fp`` (a ``.read()``-supporting file-like object containing\u001b[39;00m\n\u001b[1;32m    277\u001b[0m \u001b[38;5;124;03m    a JSON document) to a Python object.\u001b[39;00m\n\u001b[1;32m    278\u001b[0m \n\u001b[0;32m   (...)\u001b[0m\n\u001b[1;32m    291\u001b[0m \u001b[38;5;124;03m    kwarg; otherwise ``JSONDecoder`` is used.\u001b[39;00m\n\u001b[1;32m    292\u001b[0m \u001b[38;5;124;03m    \"\"\"\u001b[39;00m\n\u001b[0;32m--> 293\u001b[0m     \u001b[38;5;28;01mreturn\u001b[39;00m \u001b[43mloads\u001b[49m\u001b[43m(\u001b[49m\u001b[43mfp\u001b[49m\u001b[38;5;241;43m.\u001b[39;49m\u001b[43mread\u001b[49m\u001b[43m(\u001b[49m\u001b[43m)\u001b[49m\u001b[43m,\u001b[49m\n\u001b[1;32m    294\u001b[0m \u001b[43m        \u001b[49m\u001b[38;5;28;43mcls\u001b[39;49m\u001b[38;5;241;43m=\u001b[39;49m\u001b[38;5;28;43mcls\u001b[39;49m\u001b[43m,\u001b[49m\u001b[43m \u001b[49m\u001b[43mobject_hook\u001b[49m\u001b[38;5;241;43m=\u001b[39;49m\u001b[43mobject_hook\u001b[49m\u001b[43m,\u001b[49m\n\u001b[1;32m    295\u001b[0m \u001b[43m        \u001b[49m\u001b[43mparse_float\u001b[49m\u001b[38;5;241;43m=\u001b[39;49m\u001b[43mparse_float\u001b[49m\u001b[43m,\u001b[49m\u001b[43m \u001b[49m\u001b[43mparse_int\u001b[49m\u001b[38;5;241;43m=\u001b[39;49m\u001b[43mparse_int\u001b[49m\u001b[43m,\u001b[49m\n\u001b[1;32m    296\u001b[0m \u001b[43m        \u001b[49m\u001b[43mparse_constant\u001b[49m\u001b[38;5;241;43m=\u001b[39;49m\u001b[43mparse_constant\u001b[49m\u001b[43m,\u001b[49m\u001b[43m \u001b[49m\u001b[43mobject_pairs_hook\u001b[49m\u001b[38;5;241;43m=\u001b[39;49m\u001b[43mobject_pairs_hook\u001b[49m\u001b[43m,\u001b[49m\u001b[43m \u001b[49m\u001b[38;5;241;43m*\u001b[39;49m\u001b[38;5;241;43m*\u001b[39;49m\u001b[43mkw\u001b[49m\u001b[43m)\u001b[49m\n",
      "File \u001b[0;32m/opt/conda/lib/python3.11/json/__init__.py:346\u001b[0m, in \u001b[0;36mloads\u001b[0;34m(s, cls, object_hook, parse_float, parse_int, parse_constant, object_pairs_hook, **kw)\u001b[0m\n\u001b[1;32m    341\u001b[0m     s \u001b[38;5;241m=\u001b[39m s\u001b[38;5;241m.\u001b[39mdecode(detect_encoding(s), \u001b[38;5;124m'\u001b[39m\u001b[38;5;124msurrogatepass\u001b[39m\u001b[38;5;124m'\u001b[39m)\n\u001b[1;32m    343\u001b[0m \u001b[38;5;28;01mif\u001b[39;00m (\u001b[38;5;28mcls\u001b[39m \u001b[38;5;129;01mis\u001b[39;00m \u001b[38;5;28;01mNone\u001b[39;00m \u001b[38;5;129;01mand\u001b[39;00m object_hook \u001b[38;5;129;01mis\u001b[39;00m \u001b[38;5;28;01mNone\u001b[39;00m \u001b[38;5;129;01mand\u001b[39;00m\n\u001b[1;32m    344\u001b[0m         parse_int \u001b[38;5;129;01mis\u001b[39;00m \u001b[38;5;28;01mNone\u001b[39;00m \u001b[38;5;129;01mand\u001b[39;00m parse_float \u001b[38;5;129;01mis\u001b[39;00m \u001b[38;5;28;01mNone\u001b[39;00m \u001b[38;5;129;01mand\u001b[39;00m\n\u001b[1;32m    345\u001b[0m         parse_constant \u001b[38;5;129;01mis\u001b[39;00m \u001b[38;5;28;01mNone\u001b[39;00m \u001b[38;5;129;01mand\u001b[39;00m object_pairs_hook \u001b[38;5;129;01mis\u001b[39;00m \u001b[38;5;28;01mNone\u001b[39;00m \u001b[38;5;129;01mand\u001b[39;00m \u001b[38;5;129;01mnot\u001b[39;00m kw):\n\u001b[0;32m--> 346\u001b[0m     \u001b[38;5;28;01mreturn\u001b[39;00m \u001b[43m_default_decoder\u001b[49m\u001b[38;5;241;43m.\u001b[39;49m\u001b[43mdecode\u001b[49m\u001b[43m(\u001b[49m\u001b[43ms\u001b[49m\u001b[43m)\u001b[49m\n\u001b[1;32m    347\u001b[0m \u001b[38;5;28;01mif\u001b[39;00m \u001b[38;5;28mcls\u001b[39m \u001b[38;5;129;01mis\u001b[39;00m \u001b[38;5;28;01mNone\u001b[39;00m:\n\u001b[1;32m    348\u001b[0m     \u001b[38;5;28mcls\u001b[39m \u001b[38;5;241m=\u001b[39m JSONDecoder\n",
      "File \u001b[0;32m/opt/conda/lib/python3.11/json/decoder.py:337\u001b[0m, in \u001b[0;36mJSONDecoder.decode\u001b[0;34m(self, s, _w)\u001b[0m\n\u001b[1;32m    332\u001b[0m \u001b[38;5;28;01mdef\u001b[39;00m \u001b[38;5;21mdecode\u001b[39m(\u001b[38;5;28mself\u001b[39m, s, _w\u001b[38;5;241m=\u001b[39mWHITESPACE\u001b[38;5;241m.\u001b[39mmatch):\n\u001b[1;32m    333\u001b[0m \u001b[38;5;250m    \u001b[39m\u001b[38;5;124;03m\"\"\"Return the Python representation of ``s`` (a ``str`` instance\u001b[39;00m\n\u001b[1;32m    334\u001b[0m \u001b[38;5;124;03m    containing a JSON document).\u001b[39;00m\n\u001b[1;32m    335\u001b[0m \n\u001b[1;32m    336\u001b[0m \u001b[38;5;124;03m    \"\"\"\u001b[39;00m\n\u001b[0;32m--> 337\u001b[0m     obj, end \u001b[38;5;241m=\u001b[39m \u001b[38;5;28;43mself\u001b[39;49m\u001b[38;5;241;43m.\u001b[39;49m\u001b[43mraw_decode\u001b[49m\u001b[43m(\u001b[49m\u001b[43ms\u001b[49m\u001b[43m,\u001b[49m\u001b[43m \u001b[49m\u001b[43midx\u001b[49m\u001b[38;5;241;43m=\u001b[39;49m\u001b[43m_w\u001b[49m\u001b[43m(\u001b[49m\u001b[43ms\u001b[49m\u001b[43m,\u001b[49m\u001b[43m \u001b[49m\u001b[38;5;241;43m0\u001b[39;49m\u001b[43m)\u001b[49m\u001b[38;5;241;43m.\u001b[39;49m\u001b[43mend\u001b[49m\u001b[43m(\u001b[49m\u001b[43m)\u001b[49m\u001b[43m)\u001b[49m\n\u001b[1;32m    338\u001b[0m     end \u001b[38;5;241m=\u001b[39m _w(s, end)\u001b[38;5;241m.\u001b[39mend()\n\u001b[1;32m    339\u001b[0m     \u001b[38;5;28;01mif\u001b[39;00m end \u001b[38;5;241m!=\u001b[39m \u001b[38;5;28mlen\u001b[39m(s):\n",
      "File \u001b[0;32m/opt/conda/lib/python3.11/json/decoder.py:355\u001b[0m, in \u001b[0;36mJSONDecoder.raw_decode\u001b[0;34m(self, s, idx)\u001b[0m\n\u001b[1;32m    353\u001b[0m     obj, end \u001b[38;5;241m=\u001b[39m \u001b[38;5;28mself\u001b[39m\u001b[38;5;241m.\u001b[39mscan_once(s, idx)\n\u001b[1;32m    354\u001b[0m \u001b[38;5;28;01mexcept\u001b[39;00m \u001b[38;5;167;01mStopIteration\u001b[39;00m \u001b[38;5;28;01mas\u001b[39;00m err:\n\u001b[0;32m--> 355\u001b[0m     \u001b[38;5;28;01mraise\u001b[39;00m JSONDecodeError(\u001b[38;5;124m\"\u001b[39m\u001b[38;5;124mExpecting value\u001b[39m\u001b[38;5;124m\"\u001b[39m, s, err\u001b[38;5;241m.\u001b[39mvalue) \u001b[38;5;28;01mfrom\u001b[39;00m \u001b[38;5;28;01mNone\u001b[39;00m\n\u001b[1;32m    356\u001b[0m \u001b[38;5;28;01mreturn\u001b[39;00m obj, end\n",
      "\u001b[0;31mJSONDecodeError\u001b[0m: Expecting value: line 1 column 1 (char 0)"
     ]
    }
   ],
   "source": [
    "from transformers import AutoTokenizer, AutoModel\n",
    "import torch\n",
    "model_name = \"bert-base-multilingual-uncased\"\n",
    "tokenizer = AutoTokenizer.from_pretrained(model_name)\n",
    "model = AutoModel.from_pretrained(model_name)"
   ]
  },
  {
   "cell_type": "code",
   "execution_count": 22,
   "id": "1c134f67-69c6-43e2-bc3a-4091aef6bd8f",
   "metadata": {},
   "outputs": [
    {
     "name": "stdout",
     "output_type": "stream",
     "text": [
      "Эмбеддинги для каждого текста:\n",
      "tensor([[ 0.0195,  0.2272,  0.3918,  ...,  0.1196,  0.1758, -0.4334],\n",
      "        [ 0.0265,  0.1609,  0.1455,  ...,  0.0042,  0.1332, -0.3106],\n",
      "        [-0.2508, -0.1178,  0.2450,  ..., -0.1461,  0.2265, -0.2885],\n",
      "        ...,\n",
      "        [ 0.0151, -0.0322,  0.3000,  ..., -0.1147,  0.0221, -0.3305],\n",
      "        [-0.0747,  0.1636,  0.2191,  ...,  0.0728,  0.3410, -0.2647],\n",
      "        [ 0.0259, -0.1410,  0.2165,  ..., -0.0288,  0.3841, -0.3336]])\n"
     ]
    }
   ],
   "source": [
    "keywords = low_freq_keywords[\"sorted_keywords\"].tolist()\n",
    "\n",
    "encoded_input = tokenizer(\n",
    "    keywords, \n",
    "    padding=True,           \n",
    "    truncation=True,         \n",
    "    max_length=128,          \n",
    "    return_tensors=\"pt\"     \n",
    ")\n",
    "\n",
    "with torch.no_grad():  # Выключаем градиенты, т.к. нам не нужно обучение\n",
    "    model_output = model(**encoded_input)\n",
    "\n",
    "embeddings = model_output.last_hidden_state\n",
    "\n",
    "keyword_embeddings = embeddings.mean(dim=1)\n",
    "\n",
    "print(\"Эмбеддинги для каждого текста:\")\n",
    "print(keyword_embeddings)"
   ]
  },
  {
   "cell_type": "code",
   "execution_count": 23,
   "id": "878fe1cc-77fd-417e-b787-c0a98a65c481",
   "metadata": {},
   "outputs": [
    {
     "data": {
      "text/plain": [
       "torch.Size([10631, 768])"
      ]
     },
     "execution_count": 23,
     "metadata": {},
     "output_type": "execute_result"
    }
   ],
   "source": [
    "keyword_embeddings.shape"
   ]
  },
  {
   "cell_type": "code",
   "execution_count": 24,
   "id": "251f8b9e-b845-4e77-a18e-23c9d4894663",
   "metadata": {},
   "outputs": [],
   "source": [
    "X = keyword_embeddings.numpy()"
   ]
  },
  {
   "cell_type": "code",
   "execution_count": null,
   "id": "37f0c5b4-5e98-4a82-8831-478c05e59751",
   "metadata": {},
   "outputs": [],
   "source": []
  },
  {
   "cell_type": "markdown",
   "id": "cac20745-031f-4db3-8010-d5e49739d897",
   "metadata": {},
   "source": [
    "## Elbow method"
   ]
  },
  {
   "cell_type": "code",
   "execution_count": 28,
   "id": "16e72469-02d1-44ec-9f44-5d7077c79880",
   "metadata": {},
   "outputs": [],
   "source": [
    "from sklearn.feature_extraction.text import TfidfVectorizer\n",
    "from sklearn.cluster import KMeans\n",
    "from sklearn.decomposition import PCA\n",
    "import matplotlib.pyplot as plt"
   ]
  },
  {
   "cell_type": "code",
   "execution_count": 29,
   "id": "805873db-84ae-427f-ad53-73e6ef558545",
   "metadata": {},
   "outputs": [
    {
     "data": {
      "image/png": "[encoded data removed]",
      "text/plain": [
       "<Figure size 800x500 with 1 Axes>"
      ]
     },
     "metadata": {},
     "output_type": "display_data"
    }
   ],
   "source": [
    "inertia = []\n",
    "K = range(1, 15) \n",
    "\n",
    "for k in K:\n",
    "    kmeans = KMeans(n_clusters=k, random_state=42)\n",
    "    kmeans.fit(X)\n",
    "    inertia.append(kmeans.inertia_)\n",
    "\n",
    "plt.figure(figsize=(8, 5))\n",
    "plt.plot(K, inertia, marker='o')\n",
    "plt.xlabel('Number of Clusters')\n",
    "plt.ylabel('Inertia')\n",
    "plt.title('Elbow Method for Optimal k')\n",
    "plt.grid(True)\n",
    "plt.show()"
   ]
  },
  {
   "cell_type": "markdown",
   "id": "33c3c561-f5e2-4726-8781-4f9ecc627d79",
   "metadata": {},
   "source": [
    "=> колво кластеров = 5"
   ]
  },
  {
   "cell_type": "markdown",
   "id": "9064d492-7823-440e-bd65-b991398cdcda",
   "metadata": {},
   "source": [
    "## Silhouette Method (очень долго грузится)"
   ]
  },
  {
   "cell_type": "code",
   "execution_count": 30,
   "id": "5cdc60bb-d0e5-4eed-aff6-8587230ae879",
   "metadata": {},
   "outputs": [
    {
     "data": {
      "image/png": "[encoded data removed]",
      "text/plain": [
       "<Figure size 800x500 with 1 Axes>"
      ]
     },
     "metadata": {},
     "output_type": "display_data"
    }
   ],
   "source": [
    "from sklearn.metrics import silhouette_score\n",
    "\n",
    "silhouette_scores = []\n",
    "K = range(2, 15) \n",
    "\n",
    "for k in K:\n",
    "    kmeans = KMeans(n_clusters=k, random_state=42)\n",
    "    labels = kmeans.fit_predict(X)\n",
    "    silhouette_scores.append(silhouette_score(X, labels))\n",
    "\n",
    "plt.figure(figsize=(8, 5))\n",
    "plt.plot(K, silhouette_scores, marker='o', color='green')\n",
    "plt.xlabel('Number of Clusters')\n",
    "plt.ylabel('Silhouette Score')\n",
    "plt.title('Silhouette Method for Optimal k')\n",
    "plt.grid(True)\n",
    "plt.show()"
   ]
  },
  {
   "cell_type": "markdown",
   "id": "6f7bf8b8-3fce-4d9e-8a79-1a5b40de444b",
   "metadata": {},
   "source": [
    "=> колво кластеров = 2"
   ]
  },
  {
   "cell_type": "code",
   "execution_count": null,
   "id": "78ce48af-7e34-4deb-9a43-675a10afca2c",
   "metadata": {},
   "outputs": [],
   "source": []
  },
  {
   "cell_type": "markdown",
   "id": "83f62d87-213a-49eb-8cd7-64c2fe9f26fd",
   "metadata": {},
   "source": [
    "# Кластеризация методом K-means"
   ]
  },
  {
   "cell_type": "code",
   "execution_count": 31,
   "id": "9cd421f8-052e-445a-89f0-1965034a23e8",
   "metadata": {},
   "outputs": [],
   "source": [
    "from sklearn.feature_extraction.text import TfidfVectorizer\n",
    "from sklearn.cluster import KMeans\n",
    "from sklearn.decomposition import PCA\n",
    "import matplotlib.pyplot as plt"
   ]
  },
  {
   "cell_type": "code",
   "execution_count": 32,
   "id": "015b5a28-7e71-41ca-b7a8-f80e0f5c5bc1",
   "metadata": {},
   "outputs": [],
   "source": [
    "from sklearn.cluster import KMeans\n",
    "import pandas as pd\n",
    "\n",
    "num_clusters = 5\n",
    "kmeans = KMeans(n_clusters=num_clusters, random_state=42)\n",
    "kmeans.fit(X)\n",
    "cluster_labels = kmeans.labels_"
   ]
  },
  {
   "cell_type": "code",
   "execution_count": 33,
   "id": "2c076aa2-6066-4821-94cd-d36e91abd601",
   "metadata": {},
   "outputs": [
    {
     "name": "stdout",
     "output_type": "stream",
     "text": [
      "Данные с метками кластеров:\n",
      "                                          sorted_keywords  frequency  cluster\n",
      "366563           10050fe hhy hyundai бензиновый генератор          1        0\n",
      "366565                                        гринч маска          1        2\n",
      "366566  , , , 32 81 hd sber sdx-32h2128 smart tv смотр...          1        0\n",
      "366567                                         металлидти          1        2\n",
      "366568                              металлидти сольфеджио          1        2\n",
      "...                                                   ...        ...      ...\n",
      "378110                               garlyn соковыжималка          1        1\n",
      "378111                                    360 insta link2          1        4\n",
      "378112                    merrel зимний кроссовок мужской          1        1\n",
      "378113                                           f-t83505          1        4\n",
      "378114                             2s air dji аккамулятор          1        0\n",
      "\n",
      "[10631 rows x 3 columns]\n"
     ]
    }
   ],
   "source": [
    "low_freq_keywords.loc[:, \"cluster\"] = cluster_labels\n",
    "\n",
    "print(\"Данные с метками кластеров:\")\n",
    "print(low_freq_keywords)\n",
    "\n",
    "# сохранить:\n",
    "# low_freq_keywords.to_csv(\"keywords_with_clusters.csv\", index=False)"
   ]
  },
  {
   "cell_type": "code",
   "execution_count": 34,
   "id": "8d10c71f-f1e8-4b1d-a31b-0512105951d6",
   "metadata": {},
   "outputs": [
    {
     "data": {
      "image/png": "[encoded data removed]",
      "text/plain": [
       "<Figure size 640x480 with 2 Axes>"
      ]
     },
     "metadata": {},
     "output_type": "display_data"
    }
   ],
   "source": [
    "from sklearn.decomposition import PCA\n",
    "import matplotlib.pyplot as plt\n",
    "\n",
    "# 2D для визуализации\n",
    "pca = PCA(n_components=2)\n",
    "reduced_embeddings = pca.fit_transform(X)\n",
    "\n",
    "plt.scatter(reduced_embeddings[:, 0], reduced_embeddings[:, 1], c=cluster_labels, cmap=\"viridis\", s=50)\n",
    "plt.colorbar(label=\"Cluster Label\")\n",
    "plt.title(\"Кластеры запросов\")\n",
    "plt.xlabel(\"PCA Dimension 1\")\n",
    "plt.ylabel(\"PCA Dimension 2\")\n",
    "plt.show()"
   ]
  },
  {
   "cell_type": "code",
   "execution_count": 35,
   "id": "088bb73d-b7a8-455f-bb89-d93cac13552e",
   "metadata": {},
   "outputs": [
    {
     "name": "stdout",
     "output_type": "stream",
     "text": [
      "cluster\n",
      "1    3415\n",
      "2    2525\n",
      "3    1896\n",
      "0    1801\n",
      "4     994\n",
      "Name: count, dtype: int64\n"
     ]
    }
   ],
   "source": [
    "cluster_counts = low_freq_keywords['cluster'].value_counts()\n",
    "print(cluster_counts)"
   ]
  },
  {
   "cell_type": "code",
   "execution_count": null,
   "id": "45063438-76c8-4e51-8312-1b541c306caf",
   "metadata": {},
   "outputs": [],
   "source": []
  },
  {
   "cell_type": "code",
   "execution_count": null,
   "id": "a08af0ee-3a89-46b4-afa2-138736117293",
   "metadata": {},
   "outputs": [],
   "source": []
  },
  {
   "cell_type": "markdown",
   "id": "8ceb4eb3-62c5-4eb3-90fe-e42c84aa6afa",
   "metadata": {},
   "source": [
    "# Нахождение тем кластеров"
   ]
  },
  {
   "cell_type": "markdown",
   "id": "8ebcb506-bdaa-40ef-878b-9e9d4f4861d5",
   "metadata": {},
   "source": [
    "## 1. Примеры запросов из каждого кластера, чтобы понять их общую тему:"
   ]
  },
  {
   "cell_type": "code",
   "execution_count": 37,
   "id": "f3f849df-5ea5-4428-ad38-76d10e5d3eb6",
   "metadata": {},
   "outputs": [
    {
     "name": "stdout",
     "output_type": "stream",
     "text": [
      "\n",
      "Кластер 0:\n",
      "367858                 compact k7 karcher пеногеннратор\n",
      "374233    1970 dx frost full inverter no weissgauff wrk\n",
      "368940                         1700 xpb клиновый ремень\n",
      "369912                         1 18v all cat dg250b for\n",
      "372099                                t4 wando проектор\n",
      "377994                                 2 hdd на хранить\n",
      "374485                   a8972pl-4cc arte lamp led спот\n",
      "370730                      из набор пистолет стендофф2\n",
      "370561                          170c таблетка термостат\n",
      "375743                      lego minecraft лисий хижина\n",
      "Name: sorted_keywords, dtype: object\n",
      "\n",
      "Кластер 2:\n",
      "374389                                       vester рубашка\n",
      "368083                                                вощин\n",
      "371180                                  наташка первоклашка\n",
      "366797                                 барри джеймс миранда\n",
      "372660           dedica delonghi ec685.m кофеварка рожковый\n",
      "369379    , 2ач 434.2.2.20 да-12эр дрель-шуруповерт инте...\n",
      "375238                                    насадка штроборез\n",
      "366822                                       больший машина\n",
      "373069                                        144гц ноутбук\n",
      "375841                          riesling schmitt sohne вино\n",
      "Name: sorted_keywords, dtype: object\n",
      "\n",
      "Кластер 1:\n",
      "371178                                кожаный на шея шнурок\n",
      "369326                                     огурчик оливка с\n",
      "372877                         fi wi в давление датчик шина\n",
      "377727                          гелевый для рисование ручка\n",
      "376716                           для зачистка кабель станок\n",
      "367469                            логан на рено ручник трос\n",
      "369887                 чистящие+средства+для+ванных+комната\n",
      "368091                                        мужской ночка\n",
      "372585                     дозиметр излучение радиоактивный\n",
      "376625    ( 0.8 верхний для духовка квт лысьва перемычка...\n",
      "Name: sorted_keywords, dtype: object\n",
      "\n",
      "Кластер 4:\n",
      "376549                    rtx2080\n",
      "370809                  tob9e-63m\n",
      "374370                   00312562\n",
      "367404                   2.0 qr65\n",
      "372456    5ksm175psems kitchenaid\n",
      "370743            7166 kitfort kt\n",
      "377536       i1550sml jb0b17e00ru\n",
      "372785       lg mh6336gib neochef\n",
      "377115                   372 worx\n",
      "372532               65qned91t lg\n",
      "Name: sorted_keywords, dtype: object\n",
      "\n",
      "Кластер 3:\n",
      "369989                     audio fluid focus\n",
      "377034                           fujifilm xt\n",
      "371804    eye men revitalizer shiseido total\n",
      "376404                            hienz соус\n",
      "368533                           sbetbox top\n",
      "372039                           cc sesderma\n",
      "376040                     710 a-data legend\n",
      "376448                            mango очки\n",
      "370398                              lab poll\n",
      "377543                   toys viking каталка\n",
      "Name: sorted_keywords, dtype: object\n"
     ]
    }
   ],
   "source": [
    "for cluster_id in low_freq_keywords['cluster'].unique():\n",
    "    print(f\"\\nКластер {cluster_id}:\")\n",
    "    cluster_keywords = low_freq_keywords[low_freq_keywords['cluster'] == cluster_id]['sorted_keywords']\n",
    "    print(cluster_keywords.sample(10))  # Примеры запросов"
   ]
  },
  {
   "cell_type": "code",
   "execution_count": null,
   "id": "b3ecdb6e-e8c9-4286-9745-55922547904e",
   "metadata": {},
   "outputs": [],
   "source": []
  },
  {
   "cell_type": "markdown",
   "id": "251c601d-acd6-4c48-beca-2ac7167fad5b",
   "metadata": {},
   "source": [
    "## 2. Частотный анализ слов в каждом кластере"
   ]
  },
  {
   "cell_type": "code",
   "execution_count": 38,
   "id": "79d54802-40d9-4109-b6f6-2d94880d010d",
   "metadata": {},
   "outputs": [
    {
     "name": "stdout",
     "output_type": "stream",
     "text": [
      "Кластер 0:\n",
      ",, для, (, ), pro, с, xiaomi, пылесос, машина, samsung, чёрный, белый, телевизор, ноутбук, plus, 2, на, смотреть, 3, gaming\n",
      "\n",
      "Кластер 2:\n",
      "на, с, крем, книга, 3, для, конфета, детский, телевизор, чехол, куртка, и, kuchenland, кружка, 2, сумка, гель, маска, игра, стол\n",
      "\n",
      "Кластер 1:\n",
      "для, с, ,, на, в, набор, и, женский, мужской, волос, ., книга, крем, 1, кг, смотреть, белый, из, детский, зимний\n",
      "\n",
      "Кластер 4:\n",
      "lego, lg, msi, philips, zein, makita, tefal, (, tcl, polaris, ), gorenje, dexp, hisense, logitech, midea, haier, ,, pro, 2024\n",
      "\n",
      "Кластер 3:\n",
      "pro, the, 2, 3, xbox, s, plus, skin, black, huawei, 13, white, la, 4, watch, one, 5, 100, 10, of\n",
      "\n"
     ]
    }
   ],
   "source": [
    "from collections import Counter\n",
    "\n",
    "def get_top_words(texts, n=5):\n",
    "    words = \" \".join(texts).split()\n",
    "    return Counter(words).most_common(n)\n",
    "\n",
    "for cluster in low_freq_keywords[\"cluster\"].unique():\n",
    "    cluster_keywords = low_freq_keywords[low_freq_keywords[\"cluster\"] == cluster][\"sorted_keywords\"]\n",
    "    top_words = get_top_words(cluster_keywords, n=20)  # Топ-5 слов\n",
    "    print(f\"Кластер {cluster}:\")\n",
    "    print(\", \".join([word for word, count in top_words]))\n",
    "    print()"
   ]
  },
  {
   "cell_type": "code",
   "execution_count": null,
   "id": "0cf4e734-b3f6-4dcd-9898-16ef76fe5e51",
   "metadata": {},
   "outputs": [],
   "source": []
  },
  {
   "cell_type": "markdown",
   "id": "2714712e-2a38-48cc-932a-8a1a674afacb",
   "metadata": {},
   "source": [
    "## 3. LDA модели для нахождения темы документа"
   ]
  },
  {
   "cell_type": "code",
   "execution_count": 39,
   "id": "cf2290c9-4fb4-4162-ab43-fa700e3066a8",
   "metadata": {
    "scrolled": true
   },
   "outputs": [
    {
     "name": "stderr",
     "output_type": "stream",
     "text": [
      "huggingface/tokenizers: The current process just got forked, after parallelism has already been used. Disabling parallelism to avoid deadlocks...\n",
      "To disable this warning, you can either:\n",
      "\t- Avoid using `tokenizers` before the fork if possible\n",
      "\t- Explicitly set the environment variable TOKENIZERS_PARALLELISM=(true | false)\n"
     ]
    },
    {
     "name": "stdout",
     "output_type": "stream",
     "text": [
      "Collecting gensim\n",
      "  Using cached gensim-4.3.3-cp311-cp311-manylinux_2_17_x86_64.manylinux2014_x86_64.whl.metadata (8.1 kB)\n",
      "Requirement already satisfied: numpy<2.0,>=1.18.5 in /opt/conda/lib/python3.11/site-packages (from gensim) (1.26.4)\n",
      "Collecting scipy<1.14.0,>=1.7.0 (from gensim)\n",
      "  Using cached scipy-1.13.1-cp311-cp311-manylinux_2_17_x86_64.manylinux2014_x86_64.whl.metadata (60 kB)\n",
      "Collecting smart-open>=1.8.1 (from gensim)\n",
      "  Using cached smart_open-7.0.5-py3-none-any.whl.metadata (24 kB)\n",
      "Collecting wrapt (from smart-open>=1.8.1->gensim)\n",
      "  Using cached wrapt-1.17.0-cp311-cp311-manylinux_2_5_x86_64.manylinux1_x86_64.manylinux_2_17_x86_64.manylinux2014_x86_64.whl.metadata (6.4 kB)\n",
      "Using cached gensim-4.3.3-cp311-cp311-manylinux_2_17_x86_64.manylinux2014_x86_64.whl (26.7 MB)\n",
      "Using cached scipy-1.13.1-cp311-cp311-manylinux_2_17_x86_64.manylinux2014_x86_64.whl (38.6 MB)\n",
      "Using cached smart_open-7.0.5-py3-none-any.whl (61 kB)\n",
      "Using cached wrapt-1.17.0-cp311-cp311-manylinux_2_5_x86_64.manylinux1_x86_64.manylinux_2_17_x86_64.manylinux2014_x86_64.whl (83 kB)\n",
      "Installing collected packages: wrapt, scipy, smart-open, gensim\n",
      "  Attempting uninstall: scipy\n",
      "    Found existing installation: scipy 1.14.1\n",
      "    Uninstalling scipy-1.14.1:\n",
      "      Successfully uninstalled scipy-1.14.1\n",
      "Successfully installed gensim-4.3.3 scipy-1.13.1 smart-open-7.0.5 wrapt-1.17.0\n"
     ]
    }
   ],
   "source": [
    "!pip install gensim"
   ]
  },
  {
   "cell_type": "code",
   "execution_count": 40,
   "id": "1459a00c-aaff-4379-ba27-5f080430c080",
   "metadata": {},
   "outputs": [
    {
     "name": "stdout",
     "output_type": "stream",
     "text": [
      "Кластер 0:\n",
      "Тема 1: ,, для, (, ), pro, с, xiaomi, пылесос, машина, samsung\n",
      "\n",
      "Кластер 1:\n",
      "Тема 1: для, с, ,, на, в, набор, и, женский, мужской, волос\n",
      "\n",
      "Кластер 2:\n",
      "Тема 1: на, с, крем, конфета, детский, книга, 3, сумка, игра, куртка\n",
      "\n",
      "Кластер 3:\n",
      "Тема 1: pro, the, 3, 2, s, xbox, plus, black, skin, 13\n",
      "\n",
      "Кластер 4:\n",
      "Тема 1: lego, lg, msi, philips, zein, tefal, makita, (, gorenje, )\n",
      "\n"
     ]
    }
   ],
   "source": [
    "from gensim import corpora\n",
    "from gensim.models import LdaModel\n",
    "\n",
    "cluster_texts = low_freq_keywords.groupby(\"cluster\")[\"sorted_keywords\"].apply(list)\n",
    "for cluster, texts in cluster_texts.items():\n",
    "    tokenized_texts = [text.split() for text in texts]\n",
    "\n",
    "    dictionary = corpora.Dictionary(tokenized_texts)\n",
    "    corpus = [dictionary.doc2bow(text) for text in tokenized_texts]\n",
    "\n",
    "    lda_model = LdaModel(corpus, num_topics=1, id2word=dictionary, random_state=42)\n",
    "\n",
    "    print(f\"Кластер {cluster}:\")\n",
    "    for idx, topic in lda_model.show_topics(formatted=False):\n",
    "        print(f\"Тема {idx + 1}: \" + \", \".join([word for word, _ in topic]))\n",
    "    print()"
   ]
  },
  {
   "cell_type": "code",
   "execution_count": null,
   "id": "6cf793d5-0c8f-44ca-8761-7c97faba6970",
   "metadata": {},
   "outputs": [],
   "source": []
  },
  {
   "cell_type": "markdown",
   "id": "b275f261-5f9a-4b2a-8bd2-2acbed22e73a",
   "metadata": {},
   "source": [
    "## 4. n-граммы для каждого кластера"
   ]
  },
  {
   "cell_type": "code",
   "execution_count": 41,
   "id": "486459c1-bee9-4cd7-86c9-540445dcd9fc",
   "metadata": {},
   "outputs": [
    {
     "name": "stdout",
     "output_type": "stream",
     "text": [
      "Кластер 0 биграммы/триграммы:\n",
      "kitfort kt, kitfort кт, wi fi, вертикальный пылесос, для для, машина посудомоечный, машина стиральный, пылесос робот, смарт часы, смотреть телевизор\n",
      "\n",
      "Кластер 2 биграммы/триграммы:\n",
      "btpeel крем, holly polly, weissgauff духов, weissgauff духов шкаф, адвент календарь, бельё постельный, духов шкаф, китфорт кт, на наклейка, на пол\n",
      "\n",
      "Кластер 1 биграммы/триграммы:\n",
      "волос для, гель для, девочка для, для для, для корм, для крем, для масло, для набор, корм кошка, крем лицо\n",
      "\n",
      "Кластер 4 биграммы/триграммы:\n",
      "id cooling, kitfort kt, logitech tkl, mag msi, msi ventus, se 226, se 226 xt, tlso 251, x99 xeon, xt snow\n",
      "\n",
      "Кластер 3 биграммы/триграммы:\n",
      "41 apple, 41 apple watch, 450 86 delonghi, cleaner cordless, fresh moulinex, huawei mate, la roche, la roche posay, pro xiaomi, roche posay\n",
      "\n"
     ]
    }
   ],
   "source": [
    "from sklearn.feature_extraction.text import CountVectorizer\n",
    "\n",
    "# Анализ биграмм\n",
    "vectorizer = CountVectorizer(ngram_range=(2, 3), max_features=10)\n",
    "for cluster in low_freq_keywords[\"cluster\"].unique():\n",
    "    cluster_texts = low_freq_keywords[low_freq_keywords[\"cluster\"] == cluster][\"sorted_keywords\"]\n",
    "    ngram_matrix = vectorizer.fit_transform(cluster_texts)\n",
    "    ngrams = vectorizer.get_feature_names_out()\n",
    "    print(f\"Кластер {cluster} биграммы/триграммы:\")\n",
    "    print(\", \".join(ngrams))\n",
    "    print()"
   ]
  },
  {
   "cell_type": "code",
   "execution_count": null,
   "id": "4f0a183f-b28b-4c6f-baf0-4f2b0b766a23",
   "metadata": {},
   "outputs": [],
   "source": []
  },
  {
   "cell_type": "markdown",
   "id": "23278887-8605-4149-9954-49224de805f6",
   "metadata": {},
   "source": [
    "# Дальше плохой код"
   ]
  },
  {
   "cell_type": "markdown",
   "id": "42d3145f-74c4-4ca2-ba50-ac7d0d8614ae",
   "metadata": {},
   "source": [
    "#### Конверсии по кластерам"
   ]
  },
  {
   "cell_type": "code",
   "execution_count": 67,
   "id": "c27c2857-1f2d-4eef-aaae-f0ccd4cb5ef9",
   "metadata": {
    "collapsed": true,
    "jupyter": {
     "outputs_hidden": true
    },
    "scrolled": true
   },
   "outputs": [
    {
     "ename": "KeyError",
     "evalue": "'keyword'",
     "output_type": "error",
     "traceback": [
      "\u001b[0;31m---------------------------------------------------------------------------\u001b[0m",
      "\u001b[0;31mKeyError\u001b[0m                                  Traceback (most recent call last)",
      "File \u001b[0;32m/opt/conda/lib/python3.11/site-packages/pandas/core/indexes/base.py:3805\u001b[0m, in \u001b[0;36mIndex.get_loc\u001b[0;34m(self, key)\u001b[0m\n\u001b[1;32m   3804\u001b[0m \u001b[38;5;28;01mtry\u001b[39;00m:\n\u001b[0;32m-> 3805\u001b[0m     \u001b[38;5;28;01mreturn\u001b[39;00m \u001b[38;5;28;43mself\u001b[39;49m\u001b[38;5;241;43m.\u001b[39;49m\u001b[43m_engine\u001b[49m\u001b[38;5;241;43m.\u001b[39;49m\u001b[43mget_loc\u001b[49m\u001b[43m(\u001b[49m\u001b[43mcasted_key\u001b[49m\u001b[43m)\u001b[49m\n\u001b[1;32m   3806\u001b[0m \u001b[38;5;28;01mexcept\u001b[39;00m \u001b[38;5;167;01mKeyError\u001b[39;00m \u001b[38;5;28;01mas\u001b[39;00m err:\n",
      "File \u001b[0;32mindex.pyx:167\u001b[0m, in \u001b[0;36mpandas._libs.index.IndexEngine.get_loc\u001b[0;34m()\u001b[0m\n",
      "File \u001b[0;32mindex.pyx:196\u001b[0m, in \u001b[0;36mpandas._libs.index.IndexEngine.get_loc\u001b[0;34m()\u001b[0m\n",
      "File \u001b[0;32mpandas/_libs/hashtable_class_helper.pxi:7081\u001b[0m, in \u001b[0;36mpandas._libs.hashtable.PyObjectHashTable.get_item\u001b[0;34m()\u001b[0m\n",
      "File \u001b[0;32mpandas/_libs/hashtable_class_helper.pxi:7089\u001b[0m, in \u001b[0;36mpandas._libs.hashtable.PyObjectHashTable.get_item\u001b[0;34m()\u001b[0m\n",
      "\u001b[0;31mKeyError\u001b[0m: 'keyword'",
      "\nThe above exception was the direct cause of the following exception:\n",
      "\u001b[0;31mKeyError\u001b[0m                                  Traceback (most recent call last)",
      "Cell \u001b[0;32mIn[67], line 2\u001b[0m\n\u001b[1;32m      1\u001b[0m \u001b[38;5;28;01mfor\u001b[39;00m cluster_id \u001b[38;5;129;01min\u001b[39;00m low_freq_keywords[\u001b[38;5;124m'\u001b[39m\u001b[38;5;124mcluster\u001b[39m\u001b[38;5;124m'\u001b[39m]\u001b[38;5;241m.\u001b[39munique():\n\u001b[0;32m----> 2\u001b[0m     cluster_data \u001b[38;5;241m=\u001b[39m df[\u001b[43mdf\u001b[49m\u001b[43m[\u001b[49m\u001b[38;5;124;43m'\u001b[39;49m\u001b[38;5;124;43mkeyword\u001b[39;49m\u001b[38;5;124;43m'\u001b[39;49m\u001b[43m]\u001b[49m\u001b[38;5;241m.\u001b[39misin(\n\u001b[1;32m      3\u001b[0m         low_freq_keywords[low_freq_keywords[\u001b[38;5;124m'\u001b[39m\u001b[38;5;124mcluster\u001b[39m\u001b[38;5;124m'\u001b[39m] \u001b[38;5;241m==\u001b[39m cluster_id][\u001b[38;5;124m'\u001b[39m\u001b[38;5;124mkeyword\u001b[39m\u001b[38;5;124m'\u001b[39m]\n\u001b[1;32m      4\u001b[0m     )]\n\u001b[1;32m      5\u001b[0m     ctr \u001b[38;5;241m=\u001b[39m cluster_data[\u001b[38;5;124m'\u001b[39m\u001b[38;5;124mevent\u001b[39m\u001b[38;5;124m'\u001b[39m]\u001b[38;5;241m.\u001b[39mvalue_counts(normalize\u001b[38;5;241m=\u001b[39m\u001b[38;5;28;01mTrue\u001b[39;00m)\u001b[38;5;241m.\u001b[39mget(\u001b[38;5;124m'\u001b[39m\u001b[38;5;124mproduct_click\u001b[39m\u001b[38;5;124m'\u001b[39m, \u001b[38;5;241m0\u001b[39m)\n\u001b[1;32m      6\u001b[0m     cr \u001b[38;5;241m=\u001b[39m cluster_data[\u001b[38;5;124m'\u001b[39m\u001b[38;5;124mevent\u001b[39m\u001b[38;5;124m'\u001b[39m]\u001b[38;5;241m.\u001b[39mvalue_counts(normalize\u001b[38;5;241m=\u001b[39m\u001b[38;5;28;01mTrue\u001b[39;00m)\u001b[38;5;241m.\u001b[39mget(\u001b[38;5;124m'\u001b[39m\u001b[38;5;124madd_to_cart\u001b[39m\u001b[38;5;124m'\u001b[39m, \u001b[38;5;241m0\u001b[39m)\n",
      "File \u001b[0;32m/opt/conda/lib/python3.11/site-packages/pandas/core/frame.py:4102\u001b[0m, in \u001b[0;36mDataFrame.__getitem__\u001b[0;34m(self, key)\u001b[0m\n\u001b[1;32m   4100\u001b[0m \u001b[38;5;28;01mif\u001b[39;00m \u001b[38;5;28mself\u001b[39m\u001b[38;5;241m.\u001b[39mcolumns\u001b[38;5;241m.\u001b[39mnlevels \u001b[38;5;241m>\u001b[39m \u001b[38;5;241m1\u001b[39m:\n\u001b[1;32m   4101\u001b[0m     \u001b[38;5;28;01mreturn\u001b[39;00m \u001b[38;5;28mself\u001b[39m\u001b[38;5;241m.\u001b[39m_getitem_multilevel(key)\n\u001b[0;32m-> 4102\u001b[0m indexer \u001b[38;5;241m=\u001b[39m \u001b[38;5;28;43mself\u001b[39;49m\u001b[38;5;241;43m.\u001b[39;49m\u001b[43mcolumns\u001b[49m\u001b[38;5;241;43m.\u001b[39;49m\u001b[43mget_loc\u001b[49m\u001b[43m(\u001b[49m\u001b[43mkey\u001b[49m\u001b[43m)\u001b[49m\n\u001b[1;32m   4103\u001b[0m \u001b[38;5;28;01mif\u001b[39;00m is_integer(indexer):\n\u001b[1;32m   4104\u001b[0m     indexer \u001b[38;5;241m=\u001b[39m [indexer]\n",
      "File \u001b[0;32m/opt/conda/lib/python3.11/site-packages/pandas/core/indexes/base.py:3812\u001b[0m, in \u001b[0;36mIndex.get_loc\u001b[0;34m(self, key)\u001b[0m\n\u001b[1;32m   3807\u001b[0m     \u001b[38;5;28;01mif\u001b[39;00m \u001b[38;5;28misinstance\u001b[39m(casted_key, \u001b[38;5;28mslice\u001b[39m) \u001b[38;5;129;01mor\u001b[39;00m (\n\u001b[1;32m   3808\u001b[0m         \u001b[38;5;28misinstance\u001b[39m(casted_key, abc\u001b[38;5;241m.\u001b[39mIterable)\n\u001b[1;32m   3809\u001b[0m         \u001b[38;5;129;01mand\u001b[39;00m \u001b[38;5;28many\u001b[39m(\u001b[38;5;28misinstance\u001b[39m(x, \u001b[38;5;28mslice\u001b[39m) \u001b[38;5;28;01mfor\u001b[39;00m x \u001b[38;5;129;01min\u001b[39;00m casted_key)\n\u001b[1;32m   3810\u001b[0m     ):\n\u001b[1;32m   3811\u001b[0m         \u001b[38;5;28;01mraise\u001b[39;00m InvalidIndexError(key)\n\u001b[0;32m-> 3812\u001b[0m     \u001b[38;5;28;01mraise\u001b[39;00m \u001b[38;5;167;01mKeyError\u001b[39;00m(key) \u001b[38;5;28;01mfrom\u001b[39;00m \u001b[38;5;21;01merr\u001b[39;00m\n\u001b[1;32m   3813\u001b[0m \u001b[38;5;28;01mexcept\u001b[39;00m \u001b[38;5;167;01mTypeError\u001b[39;00m:\n\u001b[1;32m   3814\u001b[0m     \u001b[38;5;66;03m# If we have a listlike key, _check_indexing_error will raise\u001b[39;00m\n\u001b[1;32m   3815\u001b[0m     \u001b[38;5;66;03m#  InvalidIndexError. Otherwise we fall through and re-raise\u001b[39;00m\n\u001b[1;32m   3816\u001b[0m     \u001b[38;5;66;03m#  the TypeError.\u001b[39;00m\n\u001b[1;32m   3817\u001b[0m     \u001b[38;5;28mself\u001b[39m\u001b[38;5;241m.\u001b[39m_check_indexing_error(key)\n",
      "\u001b[0;31mKeyError\u001b[0m: 'keyword'"
     ]
    }
   ],
   "source": [
    "for cluster_id in low_freq_keywords['cluster'].unique():\n",
    "    cluster_data = df[df['keyword'].isin(\n",
    "        low_freq_keywords[low_freq_keywords['cluster'] == cluster_id]['keyword']\n",
    "    )]\n",
    "    ctr = cluster_data['event'].value_counts(normalize=True).get('product_click', 0)\n",
    "    cr = cluster_data['event'].value_counts(normalize=True).get('add_to_cart', 0)\n",
    "    print(f\"Кластер {cluster_id}: CTR = {ctr:.2%}, CR = {cr:.2%}\")"
   ]
  },
  {
   "cell_type": "code",
   "execution_count": 102,
   "id": "33a195c5-5179-4213-90d0-1d52b2534789",
   "metadata": {
    "collapsed": true,
    "jupyter": {
     "outputs_hidden": true
    }
   },
   "outputs": [
    {
     "name": "stdout",
     "output_type": "stream",
     "text": [
      "Cluster 0:\n",
      "                                                keyword  frequency  cluster\n",
      "1390284                      принтер xiaomi mi portable          1        0\n",
      "1390286                              подушка ikea 70x70          1        0\n",
      "1390302                                haval m6 накидки          1        0\n",
      "1390323                    ambassador blue label, 1 кг.          1        0\n",
      "1390331                   роутер keenetic giant kn-2610          1        0\n",
      "1390332                            тостер galaxy gl2909          1        0\n",
      "1390333  автохолодильник компрессорный alpicool k25 (12          1        0\n",
      "1390336                     бритва электрическая 0307rc          1        0\n",
      "1390342                чаши для мультиварок redmond m22          1        0\n",
      "1390351                      кофемашина китфорт кт 7166          1        0 \n",
      "\n",
      "Cluster 1:\n",
      "              keyword  frequency  cluster\n",
      "1390290      cnd 7723          1        1\n",
      "1390327  100061024542          1        1\n",
      "1390346  100060266844          1        1\n",
      "1390347  100060309439          1        1\n",
      "1390361      47521588          1        1\n",
      "1390365  600009678217          1        1\n",
      "1390369  100060385443          1        1\n",
      "1390411  100033028682          1        1\n",
      "1390484  100067465996          1        1\n",
      "1390486  100067693818          1        1 \n",
      "\n",
      "Cluster 2:\n",
      "                keyword  frequency  cluster\n",
      "1390283       lill'siya          1        2\n",
      "1390285     kigoo ec 02          1        2\n",
      "1390287       фанки поп          1        2\n",
      "1390288         egobond          1        2\n",
      "1390291         neuhaus          1        2\n",
      "1390292          delrus          1        2\n",
      "1390293      simply way          1        2\n",
      "1390294         kirkman          1        2\n",
      "1390295  fortnite книга          1        2\n",
      "1390296     lubinski 10          1        2 \n",
      "\n",
      "Cluster 3:\n",
      "                                                   keyword  frequency  cluster\n",
      "1390282                         ароматизатор пищевой виски          1        3\n",
      "1390289                                 каши овсяные смесь          1        3\n",
      "1390297                             все для домашнего вина          1        3\n",
      "1390299  насадка пояс верности мужская с замочком power...          1        3\n",
      "1390303  дезодорант женский спрей антиперспирант парфюм...          1        3\n",
      "1390306                  ительменское украшение олений мех          1        3\n",
      "1390308                                кроссовки marmalato          1        3\n",
      "1390309            мебель в детскую шкаф и письменный стол          1        3\n",
      "1390310                                    дом п кузнецова          1        3\n",
      "1390312                                большой kinder яйцо          1        3 \n",
      "\n"
     ]
    }
   ],
   "source": [
    "for cluster_id in low_freq_keywords['cluster'].unique():\n",
    "    cluster_data = df[df['keyword'].isin(\n",
    "        low_freq_keywords[low_freq_keywords['cluster'] == cluster_id]['keyword']\n",
    "    )]\n",
    "    print(f\"\\nКластер {cluster_id}:\")\n",
    "    print(cluster_data['platform'].value_counts(normalize=True))\n",
    "    print(cluster_data['event'].value_counts(normalize=True))"
   ]
  },
  {
   "cell_type": "code",
   "execution_count": null,
   "id": "2d7202d6-bafd-4b99-a78f-194c1cf35ddd",
   "metadata": {},
   "outputs": [],
   "source": []
  },
  {
   "cell_type": "markdown",
   "id": "179ed679-42df-4d78-9c31-fbe9fe19760e",
   "metadata": {},
   "source": [
    "# Кластеризация методом DBSCAN"
   ]
  },
  {
   "cell_type": "code",
   "execution_count": 42,
   "id": "9058d497-6fc3-4f83-9679-0647e71e5a34",
   "metadata": {},
   "outputs": [
    {
     "ename": "NameError",
     "evalue": "name 'np' is not defined",
     "output_type": "error",
     "traceback": [
      "\u001b[0;31m---------------------------------------------------------------------------\u001b[0m",
      "\u001b[0;31mNameError\u001b[0m                                 Traceback (most recent call last)",
      "Cell \u001b[0;32mIn[42], line 7\u001b[0m\n\u001b[1;32m      4\u001b[0m dbscan \u001b[38;5;241m=\u001b[39m DBSCAN(eps\u001b[38;5;241m=\u001b[39m\u001b[38;5;241m0.5\u001b[39m, min_samples\u001b[38;5;241m=\u001b[39m\u001b[38;5;241m8\u001b[39m, metric\u001b[38;5;241m=\u001b[39m\u001b[38;5;124m'\u001b[39m\u001b[38;5;124meuclidean\u001b[39m\u001b[38;5;124m'\u001b[39m)  \u001b[38;5;66;03m# Настройте параметры\u001b[39;00m\n\u001b[1;32m      5\u001b[0m dbscan_labels \u001b[38;5;241m=\u001b[39m dbscan\u001b[38;5;241m.\u001b[39mfit_predict(X)\n\u001b[0;32m----> 7\u001b[0m unique_clusters \u001b[38;5;241m=\u001b[39m \u001b[43mnp\u001b[49m\u001b[38;5;241m.\u001b[39munique(dbscan_labels)\n\u001b[1;32m      8\u001b[0m \u001b[38;5;28mprint\u001b[39m(\u001b[38;5;124mf\u001b[39m\u001b[38;5;124m\"\u001b[39m\u001b[38;5;124mКоличество кластеров: \u001b[39m\u001b[38;5;132;01m{\u001b[39;00m\u001b[38;5;28mlen\u001b[39m(unique_clusters)\u001b[38;5;250m \u001b[39m\u001b[38;5;241m-\u001b[39m\u001b[38;5;250m \u001b[39m\u001b[38;5;241m1\u001b[39m\u001b[38;5;132;01m}\u001b[39;00m\u001b[38;5;124m (без учета шума)\u001b[39m\u001b[38;5;124m\"\u001b[39m)\n\u001b[1;32m      9\u001b[0m \u001b[38;5;28mprint\u001b[39m(\u001b[38;5;124mf\u001b[39m\u001b[38;5;124m\"\u001b[39m\u001b[38;5;124mШумовых точек: \u001b[39m\u001b[38;5;132;01m{\u001b[39;00m\u001b[38;5;28msum\u001b[39m(dbscan_labels\u001b[38;5;250m \u001b[39m\u001b[38;5;241m==\u001b[39m\u001b[38;5;250m \u001b[39m\u001b[38;5;241m-\u001b[39m\u001b[38;5;241m1\u001b[39m)\u001b[38;5;132;01m}\u001b[39;00m\u001b[38;5;124m\"\u001b[39m)\n",
      "\u001b[0;31mNameError\u001b[0m: name 'np' is not defined"
     ]
    }
   ],
   "source": [
    "from sklearn.cluster import DBSCAN\n",
    "from sklearn.metrics import silhouette_score\n",
    "\n",
    "dbscan = DBSCAN(eps=0.5, min_samples=8, metric='euclidean')  # Настройте параметры\n",
    "dbscan_labels = dbscan.fit_predict(X)\n",
    "\n",
    "unique_clusters = np.unique(dbscan_labels)\n",
    "print(f\"Количество кластеров: {len(unique_clusters) - 1} (без учета шума)\")\n",
    "print(f\"Шумовых точек: {sum(dbscan_labels == -1)}\")"
   ]
  },
  {
   "cell_type": "code",
   "execution_count": null,
   "id": "78df6140-f8e2-43df-93bb-8ae7fbaa64df",
   "metadata": {},
   "outputs": [],
   "source": [
    "if len(unique_clusters) > 1:\n",
    "    silhouette = silhouette_score(X, dbscan_labels)\n",
    "    print(f\"Silhouette Score: {silhouette}\")\n",
    "else:\n",
    "    print(\"Недостаточно кластеров для расчета силуэта.\")"
   ]
  },
  {
   "cell_type": "markdown",
   "id": "29101ec7-89f5-440f-a57b-38d7873b9751",
   "metadata": {},
   "source": [
    "# Нахождение наилучшего eps"
   ]
  },
  {
   "cell_type": "code",
   "execution_count": 103,
   "id": "19d4ab1d-bac9-4ba4-b929-51d8dbd83238",
   "metadata": {},
   "outputs": [
    {
     "data": {
      "image/png": "[encoded data removed]",
      "text/plain": [
       "<Figure size 640x480 with 1 Axes>"
      ]
     },
     "metadata": {},
     "output_type": "display_data"
    }
   ],
   "source": [
    "from sklearn.neighbors import NearestNeighbors\n",
    "import matplotlib.pyplot as plt\n",
    "import numpy as np\n",
    "\n",
    "neighbors = NearestNeighbors(n_neighbors=5)  # min_samples\n",
    "neighbors_fit = neighbors.fit(X)\n",
    "distances, indices = neighbors_fit.kneighbors(X)\n",
    "\n",
    "distances = np.sort(distances[:, 4])  # Берём 4-е расстояние (n_neighbors - 1)\n",
    "plt.plot(distances)\n",
    "plt.xlabel('Точки')\n",
    "plt.ylabel('Расстояние до соседа')\n",
    "plt.title('График расстояний для DBSCAN')\n",
    "plt.show()"
   ]
  },
  {
   "cell_type": "code",
   "execution_count": null,
   "id": "fec35bae-8529-45e0-aa8d-f270ca0b4f8e",
   "metadata": {},
   "outputs": [],
   "source": []
  },
  {
   "cell_type": "code",
   "execution_count": 3,
   "id": "b230ad00-0bce-4a6b-a53f-8a533b885e28",
   "metadata": {},
   "outputs": [
    {
     "data": {
      "text/plain": [
       "6"
      ]
     },
     "execution_count": 3,
     "metadata": {},
     "output_type": "execute_result"
    }
   ],
   "source": [
    "a=6\n",
    "a"
   ]
  },
  {
   "cell_type": "code",
   "execution_count": null,
   "id": "4d18a663-7bf4-4fa7-bc1b-edd065dd3cfd",
   "metadata": {},
   "outputs": [],
   "source": []
  }
 ],
 "metadata": {
  "kernelspec": {
   "display_name": "Python 3 (ipykernel)",
   "language": "python",
   "name": "python3"
  },
  "language_info": {
   "codemirror_mode": {
    "name": "ipython",
    "version": 3
   },
   "file_extension": ".py",
   "mimetype": "text/x-python",
   "name": "python",
   "nbconvert_exporter": "python",
   "pygments_lexer": "ipython3",
   "version": "3.11.6"
  }
 },
 "nbformat": 4,
 "nbformat_minor": 5
}
